{
 "cells": [
  {
   "cell_type": "code",
   "execution_count": 72,
   "id": "8e924af4-2289-405d-996e-e8d7b3fd240c",
   "metadata": {},
   "outputs": [
    {
     "name": "stdout",
     "output_type": "stream",
     "text": [
      "Requirement already satisfied: tensorflow-hub in c:\\users\\user\\anaconda3\\lib\\site-packages (0.16.1)\n",
      "Requirement already satisfied: numpy>=1.12.0 in c:\\users\\user\\anaconda3\\lib\\site-packages (from tensorflow-hub) (1.26.4)\n",
      "Requirement already satisfied: protobuf>=3.19.6 in c:\\users\\user\\anaconda3\\lib\\site-packages (from tensorflow-hub) (4.25.5)\n",
      "Requirement already satisfied: tf-keras>=2.14.1 in c:\\users\\user\\anaconda3\\lib\\site-packages (from tensorflow-hub) (2.18.0)\n",
      "Requirement already satisfied: tensorflow<2.19,>=2.18 in c:\\users\\user\\anaconda3\\lib\\site-packages (from tf-keras>=2.14.1->tensorflow-hub) (2.18.0)\n",
      "Requirement already satisfied: tensorflow-intel==2.18.0 in c:\\users\\user\\anaconda3\\lib\\site-packages (from tensorflow<2.19,>=2.18->tf-keras>=2.14.1->tensorflow-hub) (2.18.0)\n",
      "Requirement already satisfied: absl-py>=1.0.0 in c:\\users\\user\\anaconda3\\lib\\site-packages (from tensorflow-intel==2.18.0->tensorflow<2.19,>=2.18->tf-keras>=2.14.1->tensorflow-hub) (2.1.0)\n",
      "Requirement already satisfied: astunparse>=1.6.0 in c:\\users\\user\\anaconda3\\lib\\site-packages (from tensorflow-intel==2.18.0->tensorflow<2.19,>=2.18->tf-keras>=2.14.1->tensorflow-hub) (1.6.3)\n",
      "Requirement already satisfied: flatbuffers>=24.3.25 in c:\\users\\user\\anaconda3\\lib\\site-packages (from tensorflow-intel==2.18.0->tensorflow<2.19,>=2.18->tf-keras>=2.14.1->tensorflow-hub) (24.12.23)\n",
      "Requirement already satisfied: gast!=0.5.0,!=0.5.1,!=0.5.2,>=0.2.1 in c:\\users\\user\\anaconda3\\lib\\site-packages (from tensorflow-intel==2.18.0->tensorflow<2.19,>=2.18->tf-keras>=2.14.1->tensorflow-hub) (0.6.0)\n",
      "Requirement already satisfied: google-pasta>=0.1.1 in c:\\users\\user\\anaconda3\\lib\\site-packages (from tensorflow-intel==2.18.0->tensorflow<2.19,>=2.18->tf-keras>=2.14.1->tensorflow-hub) (0.2.0)\n",
      "Requirement already satisfied: libclang>=13.0.0 in c:\\users\\user\\anaconda3\\lib\\site-packages (from tensorflow-intel==2.18.0->tensorflow<2.19,>=2.18->tf-keras>=2.14.1->tensorflow-hub) (18.1.1)\n",
      "Requirement already satisfied: opt-einsum>=2.3.2 in c:\\users\\user\\anaconda3\\lib\\site-packages (from tensorflow-intel==2.18.0->tensorflow<2.19,>=2.18->tf-keras>=2.14.1->tensorflow-hub) (3.4.0)\n",
      "Requirement already satisfied: packaging in c:\\users\\user\\appdata\\roaming\\python\\python311\\site-packages (from tensorflow-intel==2.18.0->tensorflow<2.19,>=2.18->tf-keras>=2.14.1->tensorflow-hub) (24.1)\n",
      "Requirement already satisfied: requests<3,>=2.21.0 in c:\\users\\user\\anaconda3\\lib\\site-packages (from tensorflow-intel==2.18.0->tensorflow<2.19,>=2.18->tf-keras>=2.14.1->tensorflow-hub) (2.31.0)\n",
      "Requirement already satisfied: setuptools in c:\\users\\user\\anaconda3\\lib\\site-packages (from tensorflow-intel==2.18.0->tensorflow<2.19,>=2.18->tf-keras>=2.14.1->tensorflow-hub) (68.2.2)\n",
      "Requirement already satisfied: six>=1.12.0 in c:\\users\\user\\appdata\\roaming\\python\\python311\\site-packages (from tensorflow-intel==2.18.0->tensorflow<2.19,>=2.18->tf-keras>=2.14.1->tensorflow-hub) (1.16.0)\n",
      "Requirement already satisfied: termcolor>=1.1.0 in c:\\users\\user\\anaconda3\\lib\\site-packages (from tensorflow-intel==2.18.0->tensorflow<2.19,>=2.18->tf-keras>=2.14.1->tensorflow-hub) (2.5.0)\n",
      "Requirement already satisfied: typing-extensions>=3.6.6 in c:\\users\\user\\appdata\\roaming\\python\\python311\\site-packages (from tensorflow-intel==2.18.0->tensorflow<2.19,>=2.18->tf-keras>=2.14.1->tensorflow-hub) (4.12.2)\n",
      "Requirement already satisfied: wrapt>=1.11.0 in c:\\users\\user\\anaconda3\\lib\\site-packages (from tensorflow-intel==2.18.0->tensorflow<2.19,>=2.18->tf-keras>=2.14.1->tensorflow-hub) (1.14.1)\n",
      "Requirement already satisfied: grpcio<2.0,>=1.24.3 in c:\\users\\user\\anaconda3\\lib\\site-packages (from tensorflow-intel==2.18.0->tensorflow<2.19,>=2.18->tf-keras>=2.14.1->tensorflow-hub) (1.68.1)\n",
      "Requirement already satisfied: tensorboard<2.19,>=2.18 in c:\\users\\user\\anaconda3\\lib\\site-packages (from tensorflow-intel==2.18.0->tensorflow<2.19,>=2.18->tf-keras>=2.14.1->tensorflow-hub) (2.18.0)\n",
      "Requirement already satisfied: keras>=3.5.0 in c:\\users\\user\\anaconda3\\lib\\site-packages (from tensorflow-intel==2.18.0->tensorflow<2.19,>=2.18->tf-keras>=2.14.1->tensorflow-hub) (3.7.0)\n",
      "Requirement already satisfied: h5py>=3.11.0 in c:\\users\\user\\anaconda3\\lib\\site-packages (from tensorflow-intel==2.18.0->tensorflow<2.19,>=2.18->tf-keras>=2.14.1->tensorflow-hub) (3.12.1)\n",
      "Requirement already satisfied: ml-dtypes<0.5.0,>=0.4.0 in c:\\users\\user\\anaconda3\\lib\\site-packages (from tensorflow-intel==2.18.0->tensorflow<2.19,>=2.18->tf-keras>=2.14.1->tensorflow-hub) (0.4.1)\n",
      "Requirement already satisfied: tensorflow-io-gcs-filesystem>=0.23.1 in c:\\users\\user\\anaconda3\\lib\\site-packages (from tensorflow-intel==2.18.0->tensorflow<2.19,>=2.18->tf-keras>=2.14.1->tensorflow-hub) (0.31.0)\n",
      "Requirement already satisfied: wheel<1.0,>=0.23.0 in c:\\users\\user\\anaconda3\\lib\\site-packages (from astunparse>=1.6.0->tensorflow-intel==2.18.0->tensorflow<2.19,>=2.18->tf-keras>=2.14.1->tensorflow-hub) (0.41.2)\n",
      "Requirement already satisfied: rich in c:\\users\\user\\anaconda3\\lib\\site-packages (from keras>=3.5.0->tensorflow-intel==2.18.0->tensorflow<2.19,>=2.18->tf-keras>=2.14.1->tensorflow-hub) (13.3.5)\n",
      "Requirement already satisfied: namex in c:\\users\\user\\anaconda3\\lib\\site-packages (from keras>=3.5.0->tensorflow-intel==2.18.0->tensorflow<2.19,>=2.18->tf-keras>=2.14.1->tensorflow-hub) (0.0.8)\n",
      "Requirement already satisfied: optree in c:\\users\\user\\anaconda3\\lib\\site-packages (from keras>=3.5.0->tensorflow-intel==2.18.0->tensorflow<2.19,>=2.18->tf-keras>=2.14.1->tensorflow-hub) (0.13.1)\n",
      "Requirement already satisfied: charset-normalizer<4,>=2 in c:\\users\\user\\anaconda3\\lib\\site-packages (from requests<3,>=2.21.0->tensorflow-intel==2.18.0->tensorflow<2.19,>=2.18->tf-keras>=2.14.1->tensorflow-hub) (2.0.4)\n",
      "Requirement already satisfied: idna<4,>=2.5 in c:\\users\\user\\anaconda3\\lib\\site-packages (from requests<3,>=2.21.0->tensorflow-intel==2.18.0->tensorflow<2.19,>=2.18->tf-keras>=2.14.1->tensorflow-hub) (3.4)\n",
      "Requirement already satisfied: urllib3<3,>=1.21.1 in c:\\users\\user\\anaconda3\\lib\\site-packages (from requests<3,>=2.21.0->tensorflow-intel==2.18.0->tensorflow<2.19,>=2.18->tf-keras>=2.14.1->tensorflow-hub) (2.0.7)\n",
      "Requirement already satisfied: certifi>=2017.4.17 in c:\\users\\user\\anaconda3\\lib\\site-packages (from requests<3,>=2.21.0->tensorflow-intel==2.18.0->tensorflow<2.19,>=2.18->tf-keras>=2.14.1->tensorflow-hub) (2024.12.14)\n",
      "Requirement already satisfied: markdown>=2.6.8 in c:\\users\\user\\anaconda3\\lib\\site-packages (from tensorboard<2.19,>=2.18->tensorflow-intel==2.18.0->tensorflow<2.19,>=2.18->tf-keras>=2.14.1->tensorflow-hub) (3.4.1)\n",
      "Requirement already satisfied: tensorboard-data-server<0.8.0,>=0.7.0 in c:\\users\\user\\anaconda3\\lib\\site-packages (from tensorboard<2.19,>=2.18->tensorflow-intel==2.18.0->tensorflow<2.19,>=2.18->tf-keras>=2.14.1->tensorflow-hub) (0.7.2)\n",
      "Requirement already satisfied: werkzeug>=1.0.1 in c:\\users\\user\\anaconda3\\lib\\site-packages (from tensorboard<2.19,>=2.18->tensorflow-intel==2.18.0->tensorflow<2.19,>=2.18->tf-keras>=2.14.1->tensorflow-hub) (2.2.3)\n",
      "Requirement already satisfied: MarkupSafe>=2.1.1 in c:\\users\\user\\anaconda3\\lib\\site-packages (from werkzeug>=1.0.1->tensorboard<2.19,>=2.18->tensorflow-intel==2.18.0->tensorflow<2.19,>=2.18->tf-keras>=2.14.1->tensorflow-hub) (2.1.3)\n",
      "Requirement already satisfied: markdown-it-py<3.0.0,>=2.2.0 in c:\\users\\user\\anaconda3\\lib\\site-packages (from rich->keras>=3.5.0->tensorflow-intel==2.18.0->tensorflow<2.19,>=2.18->tf-keras>=2.14.1->tensorflow-hub) (2.2.0)\n",
      "Requirement already satisfied: pygments<3.0.0,>=2.13.0 in c:\\users\\user\\appdata\\roaming\\python\\python311\\site-packages (from rich->keras>=3.5.0->tensorflow-intel==2.18.0->tensorflow<2.19,>=2.18->tf-keras>=2.14.1->tensorflow-hub) (2.18.0)\n",
      "Requirement already satisfied: mdurl~=0.1 in c:\\users\\user\\anaconda3\\lib\\site-packages (from markdown-it-py<3.0.0,>=2.2.0->rich->keras>=3.5.0->tensorflow-intel==2.18.0->tensorflow<2.19,>=2.18->tf-keras>=2.14.1->tensorflow-hub) (0.1.0)\n",
      "Requirement already satisfied: opencv-python in c:\\users\\user\\anaconda3\\lib\\site-packages (4.10.0.84)\n",
      "Requirement already satisfied: numpy>=1.21.2 in c:\\users\\user\\anaconda3\\lib\\site-packages (from opencv-python) (1.26.4)\n",
      "Requirement already satisfied: tensorflow in c:\\users\\user\\anaconda3\\lib\\site-packages (2.18.0)\n",
      "Requirement already satisfied: tensorflow-intel==2.18.0 in c:\\users\\user\\anaconda3\\lib\\site-packages (from tensorflow) (2.18.0)\n",
      "Requirement already satisfied: absl-py>=1.0.0 in c:\\users\\user\\anaconda3\\lib\\site-packages (from tensorflow-intel==2.18.0->tensorflow) (2.1.0)\n",
      "Requirement already satisfied: astunparse>=1.6.0 in c:\\users\\user\\anaconda3\\lib\\site-packages (from tensorflow-intel==2.18.0->tensorflow) (1.6.3)\n",
      "Requirement already satisfied: flatbuffers>=24.3.25 in c:\\users\\user\\anaconda3\\lib\\site-packages (from tensorflow-intel==2.18.0->tensorflow) (24.12.23)\n",
      "Requirement already satisfied: gast!=0.5.0,!=0.5.1,!=0.5.2,>=0.2.1 in c:\\users\\user\\anaconda3\\lib\\site-packages (from tensorflow-intel==2.18.0->tensorflow) (0.6.0)\n",
      "Requirement already satisfied: google-pasta>=0.1.1 in c:\\users\\user\\anaconda3\\lib\\site-packages (from tensorflow-intel==2.18.0->tensorflow) (0.2.0)\n",
      "Requirement already satisfied: libclang>=13.0.0 in c:\\users\\user\\anaconda3\\lib\\site-packages (from tensorflow-intel==2.18.0->tensorflow) (18.1.1)\n",
      "Requirement already satisfied: opt-einsum>=2.3.2 in c:\\users\\user\\anaconda3\\lib\\site-packages (from tensorflow-intel==2.18.0->tensorflow) (3.4.0)\n",
      "Requirement already satisfied: packaging in c:\\users\\user\\appdata\\roaming\\python\\python311\\site-packages (from tensorflow-intel==2.18.0->tensorflow) (24.1)\n",
      "Requirement already satisfied: protobuf!=4.21.0,!=4.21.1,!=4.21.2,!=4.21.3,!=4.21.4,!=4.21.5,<6.0.0dev,>=3.20.3 in c:\\users\\user\\anaconda3\\lib\\site-packages (from tensorflow-intel==2.18.0->tensorflow) (4.25.5)\n",
      "Requirement already satisfied: requests<3,>=2.21.0 in c:\\users\\user\\anaconda3\\lib\\site-packages (from tensorflow-intel==2.18.0->tensorflow) (2.31.0)\n",
      "Requirement already satisfied: setuptools in c:\\users\\user\\anaconda3\\lib\\site-packages (from tensorflow-intel==2.18.0->tensorflow) (68.2.2)\n",
      "Requirement already satisfied: six>=1.12.0 in c:\\users\\user\\appdata\\roaming\\python\\python311\\site-packages (from tensorflow-intel==2.18.0->tensorflow) (1.16.0)\n",
      "Requirement already satisfied: termcolor>=1.1.0 in c:\\users\\user\\anaconda3\\lib\\site-packages (from tensorflow-intel==2.18.0->tensorflow) (2.5.0)\n",
      "Requirement already satisfied: typing-extensions>=3.6.6 in c:\\users\\user\\appdata\\roaming\\python\\python311\\site-packages (from tensorflow-intel==2.18.0->tensorflow) (4.12.2)\n",
      "Requirement already satisfied: wrapt>=1.11.0 in c:\\users\\user\\anaconda3\\lib\\site-packages (from tensorflow-intel==2.18.0->tensorflow) (1.14.1)\n",
      "Requirement already satisfied: grpcio<2.0,>=1.24.3 in c:\\users\\user\\anaconda3\\lib\\site-packages (from tensorflow-intel==2.18.0->tensorflow) (1.68.1)\n",
      "Requirement already satisfied: tensorboard<2.19,>=2.18 in c:\\users\\user\\anaconda3\\lib\\site-packages (from tensorflow-intel==2.18.0->tensorflow) (2.18.0)\n",
      "Requirement already satisfied: keras>=3.5.0 in c:\\users\\user\\anaconda3\\lib\\site-packages (from tensorflow-intel==2.18.0->tensorflow) (3.7.0)\n",
      "Requirement already satisfied: numpy<2.1.0,>=1.26.0 in c:\\users\\user\\anaconda3\\lib\\site-packages (from tensorflow-intel==2.18.0->tensorflow) (1.26.4)\n",
      "Requirement already satisfied: h5py>=3.11.0 in c:\\users\\user\\anaconda3\\lib\\site-packages (from tensorflow-intel==2.18.0->tensorflow) (3.12.1)\n",
      "Requirement already satisfied: ml-dtypes<0.5.0,>=0.4.0 in c:\\users\\user\\anaconda3\\lib\\site-packages (from tensorflow-intel==2.18.0->tensorflow) (0.4.1)\n",
      "Requirement already satisfied: tensorflow-io-gcs-filesystem>=0.23.1 in c:\\users\\user\\anaconda3\\lib\\site-packages (from tensorflow-intel==2.18.0->tensorflow) (0.31.0)\n",
      "Requirement already satisfied: wheel<1.0,>=0.23.0 in c:\\users\\user\\anaconda3\\lib\\site-packages (from astunparse>=1.6.0->tensorflow-intel==2.18.0->tensorflow) (0.41.2)\n",
      "Requirement already satisfied: rich in c:\\users\\user\\anaconda3\\lib\\site-packages (from keras>=3.5.0->tensorflow-intel==2.18.0->tensorflow) (13.3.5)\n",
      "Requirement already satisfied: namex in c:\\users\\user\\anaconda3\\lib\\site-packages (from keras>=3.5.0->tensorflow-intel==2.18.0->tensorflow) (0.0.8)\n",
      "Requirement already satisfied: optree in c:\\users\\user\\anaconda3\\lib\\site-packages (from keras>=3.5.0->tensorflow-intel==2.18.0->tensorflow) (0.13.1)\n",
      "Requirement already satisfied: charset-normalizer<4,>=2 in c:\\users\\user\\anaconda3\\lib\\site-packages (from requests<3,>=2.21.0->tensorflow-intel==2.18.0->tensorflow) (2.0.4)\n",
      "Requirement already satisfied: idna<4,>=2.5 in c:\\users\\user\\anaconda3\\lib\\site-packages (from requests<3,>=2.21.0->tensorflow-intel==2.18.0->tensorflow) (3.4)\n",
      "Requirement already satisfied: urllib3<3,>=1.21.1 in c:\\users\\user\\anaconda3\\lib\\site-packages (from requests<3,>=2.21.0->tensorflow-intel==2.18.0->tensorflow) (2.0.7)\n",
      "Requirement already satisfied: certifi>=2017.4.17 in c:\\users\\user\\anaconda3\\lib\\site-packages (from requests<3,>=2.21.0->tensorflow-intel==2.18.0->tensorflow) (2024.12.14)\n",
      "Requirement already satisfied: markdown>=2.6.8 in c:\\users\\user\\anaconda3\\lib\\site-packages (from tensorboard<2.19,>=2.18->tensorflow-intel==2.18.0->tensorflow) (3.4.1)\n",
      "Requirement already satisfied: tensorboard-data-server<0.8.0,>=0.7.0 in c:\\users\\user\\anaconda3\\lib\\site-packages (from tensorboard<2.19,>=2.18->tensorflow-intel==2.18.0->tensorflow) (0.7.2)\n",
      "Requirement already satisfied: werkzeug>=1.0.1 in c:\\users\\user\\anaconda3\\lib\\site-packages (from tensorboard<2.19,>=2.18->tensorflow-intel==2.18.0->tensorflow) (2.2.3)\n",
      "Requirement already satisfied: MarkupSafe>=2.1.1 in c:\\users\\user\\anaconda3\\lib\\site-packages (from werkzeug>=1.0.1->tensorboard<2.19,>=2.18->tensorflow-intel==2.18.0->tensorflow) (2.1.3)\n",
      "Requirement already satisfied: markdown-it-py<3.0.0,>=2.2.0 in c:\\users\\user\\anaconda3\\lib\\site-packages (from rich->keras>=3.5.0->tensorflow-intel==2.18.0->tensorflow) (2.2.0)\n",
      "Requirement already satisfied: pygments<3.0.0,>=2.13.0 in c:\\users\\user\\appdata\\roaming\\python\\python311\\site-packages (from rich->keras>=3.5.0->tensorflow-intel==2.18.0->tensorflow) (2.18.0)\n",
      "Requirement already satisfied: mdurl~=0.1 in c:\\users\\user\\anaconda3\\lib\\site-packages (from markdown-it-py<3.0.0,>=2.2.0->rich->keras>=3.5.0->tensorflow-intel==2.18.0->tensorflow) (0.1.0)\n",
      "Requirement already satisfied: realesrgan in c:\\users\\user\\anaconda3\\lib\\site-packages (0.3.0)\n",
      "Requirement already satisfied: basicsr>=1.4.2 in c:\\users\\user\\anaconda3\\lib\\site-packages (from realesrgan) (1.4.2)\n",
      "Requirement already satisfied: facexlib>=0.2.5 in c:\\users\\user\\anaconda3\\lib\\site-packages (from realesrgan) (0.3.0)\n",
      "Requirement already satisfied: gfpgan>=1.3.5 in c:\\users\\user\\anaconda3\\lib\\site-packages (from realesrgan) (1.3.8)\n",
      "Requirement already satisfied: numpy in c:\\users\\user\\anaconda3\\lib\\site-packages (from realesrgan) (1.26.4)\n",
      "Requirement already satisfied: opencv-python in c:\\users\\user\\anaconda3\\lib\\site-packages (from realesrgan) (4.10.0.84)\n",
      "Requirement already satisfied: Pillow in c:\\users\\user\\anaconda3\\lib\\site-packages (from realesrgan) (10.2.0)\n",
      "Requirement already satisfied: torch>=1.7 in c:\\users\\user\\appdata\\roaming\\python\\python311\\site-packages (from realesrgan) (2.5.1+cu118)\n",
      "Requirement already satisfied: torchvision in c:\\users\\user\\appdata\\roaming\\python\\python311\\site-packages (from realesrgan) (0.20.1+cu118)\n",
      "Requirement already satisfied: tqdm in c:\\users\\user\\anaconda3\\lib\\site-packages (from realesrgan) (4.65.0)\n",
      "Requirement already satisfied: addict in c:\\users\\user\\anaconda3\\lib\\site-packages (from basicsr>=1.4.2->realesrgan) (2.4.0)\n",
      "Requirement already satisfied: future in c:\\users\\user\\anaconda3\\lib\\site-packages (from basicsr>=1.4.2->realesrgan) (0.18.3)\n",
      "Requirement already satisfied: lmdb in c:\\users\\user\\anaconda3\\lib\\site-packages (from basicsr>=1.4.2->realesrgan) (1.4.1)\n",
      "Requirement already satisfied: pyyaml in c:\\users\\user\\anaconda3\\lib\\site-packages (from basicsr>=1.4.2->realesrgan) (6.0.1)\n",
      "Requirement already satisfied: requests in c:\\users\\user\\anaconda3\\lib\\site-packages (from basicsr>=1.4.2->realesrgan) (2.31.0)\n",
      "Requirement already satisfied: scikit-image in c:\\users\\user\\anaconda3\\lib\\site-packages (from basicsr>=1.4.2->realesrgan) (0.22.0)\n",
      "Requirement already satisfied: scipy in c:\\users\\user\\anaconda3\\lib\\site-packages (from basicsr>=1.4.2->realesrgan) (1.11.4)\n",
      "Requirement already satisfied: tb-nightly in c:\\users\\user\\anaconda3\\lib\\site-packages (from basicsr>=1.4.2->realesrgan) (2.19.0a20250112)\n",
      "Requirement already satisfied: yapf in c:\\users\\user\\anaconda3\\lib\\site-packages (from basicsr>=1.4.2->realesrgan) (0.31.0)\n",
      "Requirement already satisfied: filterpy in c:\\users\\user\\anaconda3\\lib\\site-packages (from facexlib>=0.2.5->realesrgan) (1.4.5)\n",
      "Requirement already satisfied: numba in c:\\users\\user\\anaconda3\\lib\\site-packages (from facexlib>=0.2.5->realesrgan) (0.59.0)\n",
      "Requirement already satisfied: filelock in c:\\users\\user\\anaconda3\\lib\\site-packages (from torch>=1.7->realesrgan) (3.13.1)\n",
      "Requirement already satisfied: typing-extensions>=4.8.0 in c:\\users\\user\\appdata\\roaming\\python\\python311\\site-packages (from torch>=1.7->realesrgan) (4.12.2)\n",
      "Requirement already satisfied: networkx in c:\\users\\user\\anaconda3\\lib\\site-packages (from torch>=1.7->realesrgan) (3.1)\n",
      "Requirement already satisfied: jinja2 in c:\\users\\user\\anaconda3\\lib\\site-packages (from torch>=1.7->realesrgan) (3.1.3)\n",
      "Requirement already satisfied: fsspec in c:\\users\\user\\anaconda3\\lib\\site-packages (from torch>=1.7->realesrgan) (2023.10.0)\n",
      "Requirement already satisfied: sympy==1.13.1 in c:\\users\\user\\anaconda3\\lib\\site-packages (from torch>=1.7->realesrgan) (1.13.1)\n",
      "Requirement already satisfied: mpmath<1.4,>=1.1.0 in c:\\users\\user\\anaconda3\\lib\\site-packages (from sympy==1.13.1->torch>=1.7->realesrgan) (1.3.0)\n",
      "Requirement already satisfied: colorama in c:\\users\\user\\appdata\\roaming\\python\\python311\\site-packages (from tqdm->realesrgan) (0.4.6)\n",
      "Requirement already satisfied: matplotlib in c:\\users\\user\\anaconda3\\lib\\site-packages (from filterpy->facexlib>=0.2.5->realesrgan) (3.8.0)\n",
      "Requirement already satisfied: MarkupSafe>=2.0 in c:\\users\\user\\anaconda3\\lib\\site-packages (from jinja2->torch>=1.7->realesrgan) (2.1.3)\n",
      "Requirement already satisfied: llvmlite<0.43,>=0.42.0dev0 in c:\\users\\user\\anaconda3\\lib\\site-packages (from numba->facexlib>=0.2.5->realesrgan) (0.42.0)\n",
      "Requirement already satisfied: charset-normalizer<4,>=2 in c:\\users\\user\\anaconda3\\lib\\site-packages (from requests->basicsr>=1.4.2->realesrgan) (2.0.4)\n",
      "Requirement already satisfied: idna<4,>=2.5 in c:\\users\\user\\anaconda3\\lib\\site-packages (from requests->basicsr>=1.4.2->realesrgan) (3.4)\n",
      "Requirement already satisfied: urllib3<3,>=1.21.1 in c:\\users\\user\\anaconda3\\lib\\site-packages (from requests->basicsr>=1.4.2->realesrgan) (2.0.7)\n",
      "Requirement already satisfied: certifi>=2017.4.17 in c:\\users\\user\\anaconda3\\lib\\site-packages (from requests->basicsr>=1.4.2->realesrgan) (2024.12.14)\n",
      "Requirement already satisfied: imageio>=2.27 in c:\\users\\user\\anaconda3\\lib\\site-packages (from scikit-image->basicsr>=1.4.2->realesrgan) (2.37.0)\n",
      "Requirement already satisfied: tifffile>=2022.8.12 in c:\\users\\user\\anaconda3\\lib\\site-packages (from scikit-image->basicsr>=1.4.2->realesrgan) (2023.4.12)\n",
      "Requirement already satisfied: packaging>=21 in c:\\users\\user\\appdata\\roaming\\python\\python311\\site-packages (from scikit-image->basicsr>=1.4.2->realesrgan) (24.1)\n",
      "Requirement already satisfied: lazy_loader>=0.3 in c:\\users\\user\\anaconda3\\lib\\site-packages (from scikit-image->basicsr>=1.4.2->realesrgan) (0.3)\n",
      "Requirement already satisfied: absl-py>=0.4 in c:\\users\\user\\anaconda3\\lib\\site-packages (from tb-nightly->basicsr>=1.4.2->realesrgan) (2.1.0)\n",
      "Requirement already satisfied: grpcio>=1.48.2 in c:\\users\\user\\anaconda3\\lib\\site-packages (from tb-nightly->basicsr>=1.4.2->realesrgan) (1.68.1)\n",
      "Requirement already satisfied: markdown>=2.6.8 in c:\\users\\user\\anaconda3\\lib\\site-packages (from tb-nightly->basicsr>=1.4.2->realesrgan) (3.4.1)\n",
      "Requirement already satisfied: protobuf!=4.24.0,>=3.19.6 in c:\\users\\user\\anaconda3\\lib\\site-packages (from tb-nightly->basicsr>=1.4.2->realesrgan) (4.25.5)\n",
      "Requirement already satisfied: setuptools>=41.0.0 in c:\\users\\user\\anaconda3\\lib\\site-packages (from tb-nightly->basicsr>=1.4.2->realesrgan) (68.2.2)\n",
      "Requirement already satisfied: six>1.9 in c:\\users\\user\\appdata\\roaming\\python\\python311\\site-packages (from tb-nightly->basicsr>=1.4.2->realesrgan) (1.16.0)\n",
      "Requirement already satisfied: tensorboard-data-server<0.8.0,>=0.7.0 in c:\\users\\user\\anaconda3\\lib\\site-packages (from tb-nightly->basicsr>=1.4.2->realesrgan) (0.7.2)\n",
      "Requirement already satisfied: werkzeug>=1.0.1 in c:\\users\\user\\anaconda3\\lib\\site-packages (from tb-nightly->basicsr>=1.4.2->realesrgan) (2.2.3)\n",
      "Requirement already satisfied: contourpy>=1.0.1 in c:\\users\\user\\anaconda3\\lib\\site-packages (from matplotlib->filterpy->facexlib>=0.2.5->realesrgan) (1.2.0)\n",
      "Requirement already satisfied: cycler>=0.10 in c:\\users\\user\\anaconda3\\lib\\site-packages (from matplotlib->filterpy->facexlib>=0.2.5->realesrgan) (0.11.0)\n",
      "Requirement already satisfied: fonttools>=4.22.0 in c:\\users\\user\\anaconda3\\lib\\site-packages (from matplotlib->filterpy->facexlib>=0.2.5->realesrgan) (4.25.0)\n",
      "Requirement already satisfied: kiwisolver>=1.0.1 in c:\\users\\user\\anaconda3\\lib\\site-packages (from matplotlib->filterpy->facexlib>=0.2.5->realesrgan) (1.4.4)\n",
      "Requirement already satisfied: pyparsing>=2.3.1 in c:\\users\\user\\anaconda3\\lib\\site-packages (from matplotlib->filterpy->facexlib>=0.2.5->realesrgan) (3.0.9)\n",
      "Requirement already satisfied: python-dateutil>=2.7 in c:\\users\\user\\appdata\\roaming\\python\\python311\\site-packages (from matplotlib->filterpy->facexlib>=0.2.5->realesrgan) (2.9.0.post0)\n",
      "Requirement already satisfied: yt-dlp in c:\\users\\user\\anaconda3\\lib\\site-packages (2024.12.23)\n"
     ]
    }
   ],
   "source": [
    "!pip install -q opencv-python\n",
    "!pip install -q git+https://github.com/tensorflow/docs\n",
    "!pip install tensorflow-hub\n",
    "!pip install opencv-python\n",
    "!pip install tensorflow\n",
    "!pip install realesrgan\n",
    "!pip install yt-dlp"
   ]
  },
  {
   "cell_type": "code",
   "execution_count": 73,
   "id": "cca08fdb-3026-42c4-975d-f6531b57c709",
   "metadata": {},
   "outputs": [],
   "source": [
    "import tensorflow_hub as hub\n",
    "import cv2\n",
    "import tensorflow as tf\n",
    "import numpy as np\n",
    "from matplotlib import pyplot as plt\n",
    "import cv2\n",
    "import yt_dlp\n",
    "from IPython.display import HTML, display, Image\n",
    "import numpy as np\n",
    "import matplotlib.pyplot as plt\n",
    "from matplotlib.collections import LineCollection\n",
    "import imageio"
   ]
  },
  {
   "cell_type": "code",
   "execution_count": 74,
   "id": "5cd3d312-2fc1-46c6-aaed-018b89f00bed",
   "metadata": {},
   "outputs": [
    {
     "name": "stdout",
     "output_type": "stream",
     "text": [
      "[youtube] Extracting URL: https://www.youtube.com/watch?v=i0UsldY4Ue4\n",
      "[youtube] i0UsldY4Ue4: Downloading webpage\n",
      "[youtube] i0UsldY4Ue4: Downloading ios player API JSON\n",
      "[youtube] i0UsldY4Ue4: Downloading mweb player API JSON\n",
      "[youtube] i0UsldY4Ue4: Downloading m3u8 information\n",
      "[info] i0UsldY4Ue4: Downloading 1 format(s): 18\n",
      "[download] downloaded_video.mp4 has already been downloaded\n",
      "[download] 100% of    5.27MiB\n",
      "Video downloaded to: downloaded_video.mp4\n"
     ]
    },
    {
     "data": {
      "text/html": [
       "\n",
       "    <video width=\"640\" height=\"480\" controls>\n",
       "      <source src=\"downloaded_video.mp4\" type=\"video/mp4\">\n",
       "      Your browser does not support the video tag.\n",
       "    </video>\n",
       "    "
      ],
      "text/plain": [
       "<IPython.core.display.HTML object>"
      ]
     },
     "metadata": {},
     "output_type": "display_data"
    }
   ],
   "source": [
    "def download_video_yt_dlp(url, output_path):\n",
    "    # Set download options to download only a single format (MP4 or WebM)\n",
    "    ydl_opts = {\n",
    "        'outtmpl': output_path,  # Define the output file name\n",
    "        'format': 'best',  # Downloads the best available format that includes both video and audio\n",
    "    }\n",
    "    \n",
    "    with yt_dlp.YoutubeDL(ydl_opts) as ydl:\n",
    "        ydl.download([url])\n",
    "    print(f\"Video downloaded to: {output_path}\")\n",
    "\n",
    "# Function to extract frames from video (if you want to process them later)\n",
    "def extract_frames(video_path, num_frames=100):\n",
    "    cap = cv2.VideoCapture(video_path)\n",
    "    frames = []\n",
    "    total_frames = int(cap.get(cv2.CAP_PROP_FRAME_COUNT))\n",
    "    frame_interval = total_frames // num_frames\n",
    "    for i in range(num_frames):\n",
    "        ret, frame = cap.read()\n",
    "        if not ret:\n",
    "            break\n",
    "        if i % frame_interval == 0:\n",
    "            frames.append(frame)\n",
    "    cap.release()\n",
    "    return np.array(frames)\n",
    "\n",
    "# Function to display the video in a Jupyter notebook\n",
    "def display_video(video_path):\n",
    "    video_tag = f\"\"\"\n",
    "    <video width=\"640\" height=\"480\" controls>\n",
    "      <source src=\"{video_path}\" type=\"video/mp4\">\n",
    "      Your browser does not support the video tag.\n",
    "    </video>\n",
    "    \"\"\"\n",
    "    display(HTML(video_tag))\n",
    "\n",
    "# Example usage\n",
    "url = \"https://www.youtube.com/watch?v=i0UsldY4Ue4\"  # Replace with your video URL\n",
    "download_video_yt_dlp(url, 'downloaded_video.mp4')\n",
    "\n",
    "# Display the video in the Jupyter notebook\n",
    "display_video('downloaded_video.mp4')"
   ]
  },
  {
   "cell_type": "code",
   "execution_count": 75,
   "id": "bd773bb3-d880-497a-a4c1-3af1070659a0",
   "metadata": {},
   "outputs": [],
   "source": [
    "interpreter = tf.lite.Interpreter(model_path='thunder3.tflite')\n",
    "interpreter.allocate_tensors()"
   ]
  },
  {
   "cell_type": "code",
   "execution_count": 76,
   "id": "b21fabf5-39d2-43c9-9b22-16fc22de9773",
   "metadata": {},
   "outputs": [],
   "source": [
    "import collections\n",
    "\n",
    "confidence_threshold = 0.3\n",
    "\n",
    "EDGES = {\n",
    "    (0, 1): 'm',\n",
    "    (0, 2): 'c',\n",
    "    (1, 3): 'm',\n",
    "    (2, 4): 'c',\n",
    "    (0, 5): 'm',\n",
    "    (0, 6): 'c',\n",
    "    (5, 7): 'm',\n",
    "    (7, 9): 'm',\n",
    "    (6, 8): 'c',\n",
    "    (8, 10): 'c',\n",
    "    (5, 6): 'y',\n",
    "    (5, 11): 'm',\n",
    "    (6, 12): 'c',\n",
    "    (11, 12): 'y',\n",
    "    (11, 13): 'm',\n",
    "    (13, 15): 'm',\n",
    "    (12, 14): 'c',\n",
    "    (14, 16): 'c'\n",
    "}\n",
    "\n",
    "def draw_connections(frame, keypoints, edges, confidence_threshold):\n",
    "    y, x, c = frame.shape\n",
    "    shaped = np.squeeze(np.multiply(keypoints, [y,x,1]))\n",
    "    \n",
    "    for edge, color in edges.items():\n",
    "        p1, p2 = edge\n",
    "        y1, x1, c1 = shaped[p1]\n",
    "        y2, x2, c2 = shaped[p2]\n",
    "        \n",
    "        if (c1 > confidence_threshold) & (c2 > confidence_threshold):      \n",
    "            cv2.line(frame, (int(x1), int(y1)), (int(x2), int(y2)), (0,0,255), 2)\n",
    "\n",
    "\n",
    "# Dictionary to store total movement for each keypoint\n",
    "movement_data = collections.defaultdict(float)\n",
    "\n",
    "# Dictionary to store confidence scores for each keypoint\n",
    "confidence_data = collections.defaultdict(list)\n",
    "\n",
    "def draw_keypoints_with_data(frame, keypoints, confidence_threshold):\n",
    "    y, x, c = frame.shape\n",
    "    shaped = np.squeeze(np.multiply(keypoints, [y, x, 1]))\n",
    "    \n",
    "    for i, kp in enumerate(shaped):\n",
    "        ky, kx, kp_conf = kp\n",
    "        if kp_conf > confidence_threshold:\n",
    "            # Draw the keypoint\n",
    "            cv2.circle(frame, (int(kx), int(ky)), 4, (0, 255, 0), -1)\n",
    "            # Display coordinates and score\n",
    "            cv2.putText(frame, f\"{i}: {kp_conf:.2f}\",\n",
    "                        (int(kx), int(ky) - 10), cv2.FONT_HERSHEY_SIMPLEX, 0.4, (255, 255, 255), 1)\n",
    "\n",
    "        \n",
    "def calculate_movement(previous_keypoints, current_keypoints, confidence_threshold):\n",
    "    if previous_keypoints is None:\n",
    "        return None  # First frame, no movement to calculate\n",
    "    \n",
    "    for i, (prev, curr) in enumerate(zip(previous_keypoints, current_keypoints)):\n",
    "        py, px, pc = prev\n",
    "        cy, cx, cc = curr\n",
    "        \n",
    "        if pc > confidence_threshold and cc > confidence_threshold:\n",
    "            distance = np.sqrt((cx - px)**2 + (cy - py)**2)\n",
    "            movement_data[i] += distance\n",
    "            confidence_data[i].append(cc)"
   ]
  },
  {
   "cell_type": "code",
   "execution_count": 77,
   "id": "a34c1980-5bdc-4b2f-8cdd-ce07791d5cc3",
   "metadata": {},
   "outputs": [
    {
     "name": "stdout",
     "output_type": "stream",
     "text": [
      "Rotated video saved to: rotated_video.mp4\n"
     ]
    },
    {
     "data": {
      "text/html": [
       "\n",
       "    <video width=\"640\" height=\"480\" controls>\n",
       "      <source src=\"rotated_video.mp4\" type=\"video/mp4\">\n",
       "      Your browser does not support the video tag.\n",
       "    </video>\n",
       "    "
      ],
      "text/plain": [
       "<IPython.core.display.HTML object>"
      ]
     },
     "metadata": {},
     "output_type": "display_data"
    }
   ],
   "source": [
    "def rotate_video(input_path, output_path, rotation=cv2.ROTATE_90_CLOCKWISE):\n",
    "    \"\"\"\n",
    "    Rotate a video by a specified angle and save the output.\n",
    "    \n",
    "    :param input_path: Path to the input video.\n",
    "    :param output_path: Path to save the rotated video.\n",
    "    :param rotation: OpenCV rotation flag (default: cv2.ROTATE_90_CLOCKWISE).\n",
    "    \"\"\"\n",
    "    cap = cv2.VideoCapture(input_path)\n",
    "    if not cap.isOpened():\n",
    "        print(f\"Error: Unable to open video file {input_path}\")\n",
    "        return\n",
    "    \n",
    "    # Get video properties\n",
    "    frame_width = int(cap.get(cv2.CAP_PROP_FRAME_HEIGHT))  # Swapped height and width\n",
    "    frame_height = int(cap.get(cv2.CAP_PROP_FRAME_WIDTH))\n",
    "    fps = int(cap.get(cv2.CAP_PROP_FPS))\n",
    "    fourcc = cv2.VideoWriter_fourcc(*'mp4v')  # Codec for MP4 format\n",
    "    \n",
    "    # Create VideoWriter to save the rotated video\n",
    "    out = cv2.VideoWriter(output_path, fourcc, fps, (frame_width, frame_height))\n",
    "    \n",
    "    while cap.isOpened():\n",
    "        ret, frame = cap.read()\n",
    "        if not ret:\n",
    "            break\n",
    "        \n",
    "        # Rotate the frame\n",
    "        rotated_frame = cv2.rotate(frame, rotation)\n",
    "        \n",
    "        # Write the rotated frame to the output video\n",
    "        out.write(rotated_frame)\n",
    "    \n",
    "    cap.release()\n",
    "    out.release()\n",
    "    print(f\"Rotated video saved to: {output_path}\")\n",
    "\n",
    "# Rotate the video\n",
    "input_video = 'downloaded_video.mp4'\n",
    "rotated_video = 'rotated_video.mp4'\n",
    "rotate_video(input_video, rotated_video)\n",
    "\n",
    "# Display the rotated video \n",
    "display_video(rotated_video)\n",
    "cap = cv2.VideoCapture('rotated_video.mp4')\n",
    "previous_keypoints = None\n",
    "\n",
    "while cap.isOpened():\n",
    "    ret, frame = cap.read()\n",
    "    if not ret:\n",
    "        break  # Exit the loop if the video has ended\n",
    "    \n",
    "    # Reshape image\n",
    "    img = frame.copy()\n",
    "    img = tf.image.resize_with_pad(np.expand_dims(img, axis=0), 256, 256)\n",
    "    input_image = tf.cast(img, dtype=tf.float32)\n",
    "    \n",
    "    # Setup input and output\n",
    "    input_details = interpreter.get_input_details()\n",
    "    output_details = interpreter.get_output_details()\n",
    "    \n",
    "    # Make predictions\n",
    "    interpreter.set_tensor(input_details[0]['index'], np.array(input_image))\n",
    "    interpreter.invoke()\n",
    "    keypoints_with_scores = interpreter.get_tensor(output_details[0]['index'])[0][0]\n",
    "\n",
    "    draw_connections(frame, keypoints_with_scores, EDGES, confidence_threshold)\n",
    "    draw_keypoints_with_data(frame, keypoints_with_scores, confidence_threshold)\n",
    "    \n",
    "    cv2.imshow('MoveNet Thunder with Data', frame)\n",
    "    \n",
    "    if cv2.waitKey(10) & 0xFF == ord('q'):\n",
    "        break\n",
    "\n",
    "cap.release()\n",
    "cv2.destroyAllWindows()"
   ]
  },
  {
   "cell_type": "code",
   "execution_count": 78,
   "id": "99645062-d2e1-4b32-8461-2503bf7aa383",
   "metadata": {
    "scrolled": true
   },
   "outputs": [
    {
     "name": "stdout",
     "output_type": "stream",
     "text": [
      "Video already exists: videos/video_1.mp4\n",
      "Video already exists: videos/video_2.mp4\n",
      "Video already exists: videos/video_3.mp4\n",
      "Video already exists: videos/video_4.mp4\n",
      "Video already exists: videos/video_5.mp4\n",
      "Video already exists: videos/video_6.mp4\n",
      "[youtube] Extracting URL: https://www.youtube.com/watch?v=RU5DWogrC8k\n",
      "[youtube] RU5DWogrC8k: Downloading webpage\n",
      "[youtube] RU5DWogrC8k: Downloading ios player API JSON\n",
      "[youtube] RU5DWogrC8k: Downloading mweb player API JSON\n"
     ]
    },
    {
     "name": "stderr",
     "output_type": "stream",
     "text": [
      "ERROR: [youtube] RU5DWogrC8k: This video has been removed for violating YouTube's Terms of Service\n"
     ]
    },
    {
     "name": "stdout",
     "output_type": "stream",
     "text": [
      "[youtube] Extracting URL: https://www.youtube.com/watch?v=eiYANQY5NxM\n",
      "[youtube] eiYANQY5NxM: Downloading webpage\n",
      "[youtube] eiYANQY5NxM: Downloading ios player API JSON\n",
      "[youtube] eiYANQY5NxM: Downloading mweb player API JSON\n"
     ]
    },
    {
     "name": "stderr",
     "output_type": "stream",
     "text": [
      "ERROR: [youtube] eiYANQY5NxM: Private video. Sign in if you've been granted access to this video. Use --cookies-from-browser or --cookies for the authentication. See  https://github.com/yt-dlp/yt-dlp/wiki/FAQ#how-do-i-pass-cookies-to-yt-dlp  for how to manually pass cookies. Also see  https://github.com/yt-dlp/yt-dlp/wiki/Extractors#exporting-youtube-cookies  for tips on effectively exporting YouTube cookies\n"
     ]
    },
    {
     "name": "stdout",
     "output_type": "stream",
     "text": [
      "Video already exists: videos/video_9.mp4\n",
      "Video already exists: videos/video_10.mp4\n",
      "Video already exists: videos/video_11.mp4\n",
      "[youtube] Extracting URL: https://www.youtube.com/watch?v=nZtPMXCtJDc\n",
      "[youtube] nZtPMXCtJDc: Downloading webpage\n",
      "[youtube] nZtPMXCtJDc: Downloading ios player API JSON\n",
      "[youtube] nZtPMXCtJDc: Downloading mweb player API JSON\n"
     ]
    },
    {
     "name": "stderr",
     "output_type": "stream",
     "text": [
      "ERROR: [youtube] nZtPMXCtJDc: Video unavailable\n"
     ]
    },
    {
     "name": "stdout",
     "output_type": "stream",
     "text": [
      "Video already exists: videos/video_13.mp4\n",
      "Video already exists: videos/video_14.mp4\n",
      "Video already exists: videos/video_15.mp4\n",
      "Video already exists: videos/video_16.mp4\n",
      "Video already exists: videos/video_17.mp4\n",
      "[youtube] Extracting URL: https://www.youtube.com/watch?v=3xDtZxwjAAI\n",
      "[youtube] 3xDtZxwjAAI: Downloading webpage\n",
      "[youtube] 3xDtZxwjAAI: Downloading ios player API JSON\n",
      "[youtube] 3xDtZxwjAAI: Downloading mweb player API JSON\n"
     ]
    },
    {
     "name": "stderr",
     "output_type": "stream",
     "text": [
      "ERROR: [youtube] 3xDtZxwjAAI: This video has been removed for violating YouTube's Terms of Service\n"
     ]
    },
    {
     "name": "stdout",
     "output_type": "stream",
     "text": [
      "Video already exists: videos/video_19.mp4\n",
      "Video already exists: videos/video_20.mp4\n",
      "Video already exists: videos/video_21.mp4\n",
      "[youtube] Extracting URL: https://www.youtube.com/watch?v=E-zWIb2ES28\n",
      "[youtube] E-zWIb2ES28: Downloading webpage\n",
      "[youtube] E-zWIb2ES28: Downloading ios player API JSON\n",
      "[youtube] E-zWIb2ES28: Downloading mweb player API JSON\n"
     ]
    },
    {
     "name": "stderr",
     "output_type": "stream",
     "text": [
      "ERROR: [youtube] E-zWIb2ES28: Private video. Sign in if you've been granted access to this video. Use --cookies-from-browser or --cookies for the authentication. See  https://github.com/yt-dlp/yt-dlp/wiki/FAQ#how-do-i-pass-cookies-to-yt-dlp  for how to manually pass cookies. Also see  https://github.com/yt-dlp/yt-dlp/wiki/Extractors#exporting-youtube-cookies  for tips on effectively exporting YouTube cookies\n"
     ]
    },
    {
     "name": "stdout",
     "output_type": "stream",
     "text": [
      "[youtube] Extracting URL: https://www.youtube.com/watch?v=5b07smydcyg\n",
      "[youtube] 5b07smydcyg: Downloading webpage\n",
      "[youtube] 5b07smydcyg: Downloading ios player API JSON\n",
      "[youtube] 5b07smydcyg: Downloading mweb player API JSON\n"
     ]
    },
    {
     "name": "stderr",
     "output_type": "stream",
     "text": [
      "ERROR: [youtube] 5b07smydcyg: Private video. Sign in if you've been granted access to this video. Use --cookies-from-browser or --cookies for the authentication. See  https://github.com/yt-dlp/yt-dlp/wiki/FAQ#how-do-i-pass-cookies-to-yt-dlp  for how to manually pass cookies. Also see  https://github.com/yt-dlp/yt-dlp/wiki/Extractors#exporting-youtube-cookies  for tips on effectively exporting YouTube cookies\n"
     ]
    },
    {
     "name": "stdout",
     "output_type": "stream",
     "text": [
      "Video already exists: videos/video_24.mp4\n",
      "[youtube] Extracting URL: https://www.youtube.com/watch?v=ganBCk7GCrM\n",
      "[youtube] ganBCk7GCrM: Downloading webpage\n",
      "[youtube] ganBCk7GCrM: Downloading ios player API JSON\n",
      "[youtube] ganBCk7GCrM: Downloading mweb player API JSON\n"
     ]
    },
    {
     "name": "stderr",
     "output_type": "stream",
     "text": [
      "ERROR: [youtube] ganBCk7GCrM: Private video. Sign in if you've been granted access to this video. Use --cookies-from-browser or --cookies for the authentication. See  https://github.com/yt-dlp/yt-dlp/wiki/FAQ#how-do-i-pass-cookies-to-yt-dlp  for how to manually pass cookies. Also see  https://github.com/yt-dlp/yt-dlp/wiki/Extractors#exporting-youtube-cookies  for tips on effectively exporting YouTube cookies\n"
     ]
    },
    {
     "name": "stdout",
     "output_type": "stream",
     "text": [
      "[youtube] Extracting URL: https://www.youtube.com/watch?v=LVZb_NXwVcM\n",
      "[youtube] LVZb_NXwVcM: Downloading webpage\n",
      "[youtube] LVZb_NXwVcM: Downloading ios player API JSON\n",
      "[youtube] LVZb_NXwVcM: Downloading mweb player API JSON\n"
     ]
    },
    {
     "name": "stderr",
     "output_type": "stream",
     "text": [
      "ERROR: [youtube] LVZb_NXwVcM: This video has been removed for violating YouTube's Terms of Service\n"
     ]
    },
    {
     "name": "stdout",
     "output_type": "stream",
     "text": [
      "[youtube] Extracting URL: https://www.youtube.com/watch?v=ReNYmojtmkw\n",
      "[youtube] ReNYmojtmkw: Downloading webpage\n",
      "[youtube] ReNYmojtmkw: Downloading ios player API JSON\n",
      "[youtube] ReNYmojtmkw: Downloading mweb player API JSON\n"
     ]
    },
    {
     "name": "stderr",
     "output_type": "stream",
     "text": [
      "ERROR: [youtube] ReNYmojtmkw: This video has been removed for violating YouTube's Terms of Service\n"
     ]
    },
    {
     "name": "stdout",
     "output_type": "stream",
     "text": [
      "[youtube] Extracting URL: https://www.youtube.com/watch?v=zDZskLZO0gA\n",
      "[youtube] zDZskLZO0gA: Downloading webpage\n",
      "[youtube] zDZskLZO0gA: Downloading ios player API JSON\n",
      "[youtube] zDZskLZO0gA: Downloading mweb player API JSON\n"
     ]
    },
    {
     "name": "stderr",
     "output_type": "stream",
     "text": [
      "ERROR: [youtube] zDZskLZO0gA: This video has been removed for violating YouTube's Community Guidelines\n"
     ]
    },
    {
     "name": "stdout",
     "output_type": "stream",
     "text": [
      "[youtube] Extracting URL: https://www.youtube.com/watch?v=TQTsEAwbQ0s\n",
      "[youtube] TQTsEAwbQ0s: Downloading webpage\n",
      "[youtube] TQTsEAwbQ0s: Downloading ios player API JSON\n",
      "[youtube] TQTsEAwbQ0s: Downloading mweb player API JSON\n"
     ]
    },
    {
     "name": "stderr",
     "output_type": "stream",
     "text": [
      "ERROR: [youtube] TQTsEAwbQ0s: This video has been removed for violating YouTube's Terms of Service\n"
     ]
    },
    {
     "name": "stdout",
     "output_type": "stream",
     "text": [
      "[youtube] Extracting URL: https://www.youtube.com/watch?v=HrtIKcJbtoY\n",
      "[youtube] HrtIKcJbtoY: Downloading webpage\n",
      "[youtube] HrtIKcJbtoY: Downloading ios player API JSON\n",
      "[youtube] HrtIKcJbtoY: Downloading mweb player API JSON\n"
     ]
    },
    {
     "name": "stderr",
     "output_type": "stream",
     "text": [
      "ERROR: [youtube] HrtIKcJbtoY: This video has been removed for violating YouTube's Community Guidelines\n"
     ]
    },
    {
     "name": "stdout",
     "output_type": "stream",
     "text": [
      "Video already exists: videos/video_31.mp4\n",
      "Video already exists: videos/video_32.mp4\n",
      "Video already exists: videos/video_33.mp4\n",
      "Video already exists: videos/video_34.mp4\n",
      "Video already exists: videos/video_35.mp4\n",
      "Video already exists: videos/video_36.mp4\n",
      "Video already exists: videos/video_37.mp4\n",
      "Video already exists: videos/video_38.mp4\n",
      "[youtube] Extracting URL: https://youtu.be/9Er3So6nRIM\n",
      "[youtube] 9Er3So6nRIM: Downloading webpage\n",
      "[youtube] 9Er3So6nRIM: Downloading ios player API JSON\n",
      "[youtube] 9Er3So6nRIM: Downloading mweb player API JSON\n"
     ]
    },
    {
     "name": "stderr",
     "output_type": "stream",
     "text": [
      "ERROR: [youtube] 9Er3So6nRIM: This video has been removed for violating YouTube's Terms of Service\n"
     ]
    },
    {
     "name": "stdout",
     "output_type": "stream",
     "text": [
      "Video already exists: videos/video_40.mp4\n",
      "Video already exists: videos/video_41.mp4\n",
      "[youtube] Extracting URL: https://www.youtube.com/watch?v=sWfWJqOBcKA\n",
      "[youtube] sWfWJqOBcKA: Downloading webpage\n",
      "[youtube] sWfWJqOBcKA: Downloading ios player API JSON\n",
      "[youtube] sWfWJqOBcKA: Downloading mweb player API JSON\n"
     ]
    },
    {
     "name": "stderr",
     "output_type": "stream",
     "text": [
      "ERROR: [youtube] sWfWJqOBcKA: This video has been removed for violating YouTube's Terms of Service\n"
     ]
    },
    {
     "name": "stdout",
     "output_type": "stream",
     "text": [
      "Video already exists: videos/video_43.mp4\n",
      "Video already exists: videos/video_44.mp4\n",
      "[youtube] Extracting URL: https://www.youtube.com/watch?v=tDlk2-IMW2E\n",
      "[youtube] tDlk2-IMW2E: Downloading webpage\n",
      "[youtube] tDlk2-IMW2E: Downloading ios player API JSON\n",
      "[youtube] tDlk2-IMW2E: Downloading mweb player API JSON\n"
     ]
    },
    {
     "name": "stderr",
     "output_type": "stream",
     "text": [
      "ERROR: [youtube] tDlk2-IMW2E: Private video. Sign in if you've been granted access to this video. Use --cookies-from-browser or --cookies for the authentication. See  https://github.com/yt-dlp/yt-dlp/wiki/FAQ#how-do-i-pass-cookies-to-yt-dlp  for how to manually pass cookies. Also see  https://github.com/yt-dlp/yt-dlp/wiki/Extractors#exporting-youtube-cookies  for tips on effectively exporting YouTube cookies\n"
     ]
    },
    {
     "name": "stdout",
     "output_type": "stream",
     "text": [
      "Video already exists: videos/video_46.mp4\n",
      "[youtube] Extracting URL: https://youtu.be/cMvPOpFDlf4\n",
      "[youtube] cMvPOpFDlf4: Downloading webpage\n",
      "[youtube] cMvPOpFDlf4: Downloading ios player API JSON\n",
      "[youtube] cMvPOpFDlf4: Downloading mweb player API JSON\n"
     ]
    },
    {
     "name": "stderr",
     "output_type": "stream",
     "text": [
      "ERROR: [youtube] cMvPOpFDlf4: Private video. Sign in if you've been granted access to this video. Use --cookies-from-browser or --cookies for the authentication. See  https://github.com/yt-dlp/yt-dlp/wiki/FAQ#how-do-i-pass-cookies-to-yt-dlp  for how to manually pass cookies. Also see  https://github.com/yt-dlp/yt-dlp/wiki/Extractors#exporting-youtube-cookies  for tips on effectively exporting YouTube cookies\n"
     ]
    },
    {
     "name": "stdout",
     "output_type": "stream",
     "text": [
      "Video already exists: videos/video_48.mp4\n",
      "Video already exists: videos/video_49.mp4\n",
      "Video already exists: videos/video_50.mp4\n",
      "Video already exists: videos/video_51.mp4\n",
      "Video already exists: videos/video_52.mp4\n",
      "[youtube] Extracting URL: https://www.youtube.com/watch?v=euyXdpT5D-s\n",
      "[youtube] euyXdpT5D-s: Downloading webpage\n",
      "[youtube] euyXdpT5D-s: Downloading ios player API JSON\n",
      "[youtube] euyXdpT5D-s: Downloading mweb player API JSON\n"
     ]
    },
    {
     "name": "stderr",
     "output_type": "stream",
     "text": [
      "ERROR: [youtube] euyXdpT5D-s: Video unavailable. This video is no longer available because the YouTube account associated with this video has been terminated.\n"
     ]
    },
    {
     "name": "stdout",
     "output_type": "stream",
     "text": [
      "Video already exists: videos/video_54.mp4\n",
      "[youtube] Extracting URL: https://www.youtube.com/watch?v=ymsweZ0Vlwo\n",
      "[youtube] ymsweZ0Vlwo: Downloading webpage\n",
      "[youtube] ymsweZ0Vlwo: Downloading ios player API JSON\n",
      "[youtube] ymsweZ0Vlwo: Downloading mweb player API JSON\n"
     ]
    },
    {
     "name": "stderr",
     "output_type": "stream",
     "text": [
      "ERROR: [youtube] ymsweZ0Vlwo: Video unavailable\n"
     ]
    },
    {
     "name": "stdout",
     "output_type": "stream",
     "text": [
      "Video already exists: videos/video_56.mp4\n",
      "Video already exists: videos/video_57.mp4\n",
      "Video already exists: videos/video_58.mp4\n",
      "Video already exists: videos/video_59.mp4\n",
      "[youtube] Extracting URL: https://www.youtube.com/watch?v=D4m_FaB9rgk\n",
      "[youtube] D4m_FaB9rgk: Downloading webpage\n",
      "[youtube] D4m_FaB9rgk: Downloading ios player API JSON\n",
      "[youtube] D4m_FaB9rgk: Downloading mweb player API JSON\n"
     ]
    },
    {
     "name": "stderr",
     "output_type": "stream",
     "text": [
      "ERROR: [youtube] D4m_FaB9rgk: Video unavailable. This video is no longer available because the YouTube account associated with this video has been terminated.\n"
     ]
    },
    {
     "name": "stdout",
     "output_type": "stream",
     "text": [
      "[youtube] Extracting URL: https://www.youtube.com/watch?v=Ik8VKZKLLjk\n",
      "[youtube] Ik8VKZKLLjk: Downloading webpage\n",
      "[youtube] Ik8VKZKLLjk: Downloading ios player API JSON\n",
      "[youtube] Ik8VKZKLLjk: Downloading mweb player API JSON\n"
     ]
    },
    {
     "name": "stderr",
     "output_type": "stream",
     "text": [
      "ERROR: [youtube] Ik8VKZKLLjk: Private video. Sign in if you've been granted access to this video. Use --cookies-from-browser or --cookies for the authentication. See  https://github.com/yt-dlp/yt-dlp/wiki/FAQ#how-do-i-pass-cookies-to-yt-dlp  for how to manually pass cookies. Also see  https://github.com/yt-dlp/yt-dlp/wiki/Extractors#exporting-youtube-cookies  for tips on effectively exporting YouTube cookies\n"
     ]
    },
    {
     "name": "stdout",
     "output_type": "stream",
     "text": [
      "Video already exists: videos/video_62.mp4\n",
      "Video already exists: videos/video_63.mp4\n",
      "Video already exists: videos/video_64.mp4\n",
      "Video already exists: videos/video_65.mp4\n",
      "[youtube] Extracting URL: https://www.youtube.com/watch?v=shVty7OI2a8\n",
      "[youtube] shVty7OI2a8: Downloading webpage\n",
      "[youtube] shVty7OI2a8: Downloading ios player API JSON\n",
      "[youtube] shVty7OI2a8: Downloading mweb player API JSON\n"
     ]
    },
    {
     "name": "stderr",
     "output_type": "stream",
     "text": [
      "ERROR: [youtube] shVty7OI2a8: This video has been removed for violating YouTube's Terms of Service\n"
     ]
    },
    {
     "name": "stdout",
     "output_type": "stream",
     "text": [
      "[youtube] Extracting URL: https://www.youtube.com/watch?v=shVty7OI2a8\n",
      "[youtube] shVty7OI2a8: Downloading webpage\n",
      "[youtube] shVty7OI2a8: Downloading ios player API JSON\n",
      "[youtube] shVty7OI2a8: Downloading mweb player API JSON\n"
     ]
    },
    {
     "name": "stderr",
     "output_type": "stream",
     "text": [
      "ERROR: [youtube] shVty7OI2a8: This video has been removed for violating YouTube's Terms of Service\n"
     ]
    },
    {
     "name": "stdout",
     "output_type": "stream",
     "text": [
      "[youtube] Extracting URL: https://www.youtube.com/watch?v=WAp1GJrclqc\n",
      "[youtube] WAp1GJrclqc: Downloading webpage\n",
      "[youtube] WAp1GJrclqc: Downloading ios player API JSON\n",
      "[youtube] WAp1GJrclqc: Downloading mweb player API JSON\n"
     ]
    },
    {
     "name": "stderr",
     "output_type": "stream",
     "text": [
      "ERROR: [youtube] WAp1GJrclqc: Video unavailable\n"
     ]
    },
    {
     "name": "stdout",
     "output_type": "stream",
     "text": [
      "[youtube] Extracting URL: https://www.youtube.com/watch?v=WAp1GJrclqc\n",
      "[youtube] WAp1GJrclqc: Downloading webpage\n",
      "[youtube] WAp1GJrclqc: Downloading ios player API JSON\n",
      "[youtube] WAp1GJrclqc: Downloading mweb player API JSON\n"
     ]
    },
    {
     "name": "stderr",
     "output_type": "stream",
     "text": [
      "ERROR: [youtube] WAp1GJrclqc: Video unavailable\n"
     ]
    },
    {
     "name": "stdout",
     "output_type": "stream",
     "text": [
      "[youtube] Extracting URL: https://www.youtube.com/watch?v=WAp1GJrclqc\n",
      "[youtube] WAp1GJrclqc: Downloading webpage\n",
      "[youtube] WAp1GJrclqc: Downloading ios player API JSON\n",
      "[youtube] WAp1GJrclqc: Downloading mweb player API JSON\n"
     ]
    },
    {
     "name": "stderr",
     "output_type": "stream",
     "text": [
      "ERROR: [youtube] WAp1GJrclqc: Video unavailable\n"
     ]
    },
    {
     "name": "stdout",
     "output_type": "stream",
     "text": [
      "[youtube] Extracting URL: https://www.youtube.com/watch?v=WAp1GJrclqc\n",
      "[youtube] WAp1GJrclqc: Downloading webpage\n",
      "[youtube] WAp1GJrclqc: Downloading ios player API JSON\n",
      "[youtube] WAp1GJrclqc: Downloading mweb player API JSON\n"
     ]
    },
    {
     "name": "stderr",
     "output_type": "stream",
     "text": [
      "ERROR: [youtube] WAp1GJrclqc: Video unavailable\n"
     ]
    },
    {
     "name": "stdout",
     "output_type": "stream",
     "text": [
      "Video already exists: videos/video_72.mp4\n",
      "Video already exists: videos/video_73.mp4\n",
      "[youtube] Extracting URL: https://www.youtube.com/watch?v=HgRuyJpN-To\n",
      "[youtube] HgRuyJpN-To: Downloading webpage\n",
      "[youtube] HgRuyJpN-To: Downloading ios player API JSON\n",
      "[youtube] HgRuyJpN-To: Downloading mweb player API JSON\n"
     ]
    },
    {
     "name": "stderr",
     "output_type": "stream",
     "text": [
      "ERROR: [youtube] HgRuyJpN-To: This video has been removed for violating YouTube's Community Guidelines\n"
     ]
    },
    {
     "name": "stdout",
     "output_type": "stream",
     "text": [
      "[youtube] Extracting URL: https://www.youtube.com/watch?v=HgRuyJpN-To\n",
      "[youtube] HgRuyJpN-To: Downloading webpage\n",
      "[youtube] HgRuyJpN-To: Downloading ios player API JSON\n",
      "[youtube] HgRuyJpN-To: Downloading mweb player API JSON\n"
     ]
    },
    {
     "name": "stderr",
     "output_type": "stream",
     "text": [
      "ERROR: [youtube] HgRuyJpN-To: This video has been removed for violating YouTube's Community Guidelines\n"
     ]
    },
    {
     "name": "stdout",
     "output_type": "stream",
     "text": [
      "Video already exists: videos/video_76.mp4\n",
      "Video already exists: videos/video_77.mp4\n",
      "Video already exists: videos/video_78.mp4\n",
      "Video already exists: videos/video_79.mp4\n",
      "Video already exists: videos/video_80.mp4\n",
      "Video already exists: videos/video_81.mp4\n",
      "Video already exists: videos/video_82.mp4\n",
      "Video already exists: videos/video_83.mp4\n",
      "Video already exists: videos/video_84.mp4\n",
      "[youtube] Extracting URL: https://www.youtube.com/watch?v=Pfhf2w9Z4C4\n",
      "[youtube] Pfhf2w9Z4C4: Downloading webpage\n",
      "[youtube] Pfhf2w9Z4C4: Downloading ios player API JSON\n",
      "[youtube] Pfhf2w9Z4C4: Downloading mweb player API JSON\n"
     ]
    },
    {
     "name": "stderr",
     "output_type": "stream",
     "text": [
      "ERROR: [youtube] Pfhf2w9Z4C4: This video has been removed for violating YouTube's Terms of Service\n"
     ]
    },
    {
     "name": "stdout",
     "output_type": "stream",
     "text": [
      "[youtube] Extracting URL: https://www.youtube.com/watch?v=hcpptfftDcA\n",
      "[youtube] hcpptfftDcA: Downloading webpage\n",
      "[youtube] hcpptfftDcA: Downloading ios player API JSON\n",
      "[youtube] hcpptfftDcA: Downloading mweb player API JSON\n"
     ]
    },
    {
     "name": "stderr",
     "output_type": "stream",
     "text": [
      "ERROR: [youtube] hcpptfftDcA: Private video. Sign in if you've been granted access to this video. Use --cookies-from-browser or --cookies for the authentication. See  https://github.com/yt-dlp/yt-dlp/wiki/FAQ#how-do-i-pass-cookies-to-yt-dlp  for how to manually pass cookies. Also see  https://github.com/yt-dlp/yt-dlp/wiki/Extractors#exporting-youtube-cookies  for tips on effectively exporting YouTube cookies\n"
     ]
    },
    {
     "name": "stdout",
     "output_type": "stream",
     "text": [
      "Video already exists: videos/video_87.mp4\n",
      "Video already exists: videos/video_88.mp4\n",
      "Video already exists: videos/video_89.mp4\n",
      "Video already exists: videos/video_90.mp4\n",
      "Video already exists: videos/video_91.mp4\n",
      "[youtube] Extracting URL: https://www.youtube.com/watch?v=KaRV_QbrO6M\n",
      "[youtube] KaRV_QbrO6M: Downloading webpage\n",
      "[youtube] KaRV_QbrO6M: Downloading ios player API JSON\n",
      "[youtube] KaRV_QbrO6M: Downloading mweb player API JSON\n"
     ]
    },
    {
     "name": "stderr",
     "output_type": "stream",
     "text": [
      "ERROR: [youtube] KaRV_QbrO6M: This video has been removed for violating YouTube's Community Guidelines\n"
     ]
    },
    {
     "name": "stdout",
     "output_type": "stream",
     "text": [
      "Video already exists: videos/video_93.mp4\n",
      "Video already exists: videos/video_94.mp4\n",
      "Video already exists: videos/video_95.mp4\n",
      "Videos failed to download from rows: [7, 8, 12, 18, 22, 23, 25, 26, 27, 28, 29, 30, 39, 42, 45, 47, 53, 55, 60, 61, 66, 67, 68, 69, 70, 71, 74, 75, 85, 86, 92]\n"
     ]
    }
   ],
   "source": [
    "import os\n",
    "import pandas as pd\n",
    "\n",
    "\n",
    "\n",
    "df = pd.read_csv('URL_pose_dataset.csv')\n",
    "\n",
    "\n",
    "def download_video_yt_dlp(url, output_path):\n",
    "    if os.path.exists(output_path):\n",
    "        print(f\"Video already exists: {output_path}\")\n",
    "    else:\n",
    "        ydl_opts = {\n",
    "            'outtmpl': output_path,\n",
    "            'format': 'best',\n",
    "            'continue': True,  \n",
    "        }\n",
    "        with yt_dlp.YoutubeDL(ydl_opts) as ydl:\n",
    "            ydl.download([url])\n",
    "\n",
    "def download_videos_from_csv(csv_file, output_dir):\n",
    "    failed_downloads = []\n",
    "    for idx, row in df.iterrows():\n",
    "        url = row['url']\n",
    "        output_path = f\"{output_dir}/video_{idx+1}.mp4\"\n",
    "        \n",
    "        try:\n",
    "            download_video_yt_dlp(url, output_path)\n",
    "        except Exception as e:\n",
    "            failed_downloads.append(idx+1)  \n",
    "            \n",
    "    return failed_downloads\n",
    "\n",
    "\n",
    "failed_downloads = download_videos_from_csv('URL_pose_dataset.csv', 'videos')\n",
    "\n",
    "\n",
    "if failed_downloads:\n",
    "    print(f\"Videos failed to download from rows: {failed_downloads}\")\n",
    "else:\n",
    "    print(\"All videos were downloaded successfully.\")\n",
    "\n"
   ]
  },
  {
   "cell_type": "code",
   "execution_count": 79,
   "id": "f55d7c38-5851-40d3-b5e7-48e08d66ce8a",
   "metadata": {},
   "outputs": [
    {
     "name": "stdout",
     "output_type": "stream",
     "text": [
      "Collecting moviepy==1.0.3\n",
      "  Using cached moviepy-1.0.3-py3-none-any.whl\n",
      "Collecting decorator<5.0,>=4.0.2 (from moviepy==1.0.3)\n",
      "  Using cached decorator-4.4.2-py2.py3-none-any.whl.metadata (4.2 kB)\n",
      "Requirement already satisfied: tqdm<5.0,>=4.11.2 in c:\\users\\user\\anaconda3\\lib\\site-packages (from moviepy==1.0.3) (4.65.0)\n",
      "Requirement already satisfied: requests<3.0,>=2.8.1 in c:\\users\\user\\anaconda3\\lib\\site-packages (from moviepy==1.0.3) (2.31.0)\n",
      "Requirement already satisfied: proglog<=1.0.0 in c:\\users\\user\\anaconda3\\lib\\site-packages (from moviepy==1.0.3) (0.1.10)\n",
      "Requirement already satisfied: numpy>=1.17.3 in c:\\users\\user\\anaconda3\\lib\\site-packages (from moviepy==1.0.3) (1.26.4)\n",
      "Requirement already satisfied: imageio<3.0,>=2.5 in c:\\users\\user\\anaconda3\\lib\\site-packages (from moviepy==1.0.3) (2.37.0)\n",
      "Requirement already satisfied: imageio-ffmpeg>=0.2.0 in c:\\users\\user\\anaconda3\\lib\\site-packages (from moviepy==1.0.3) (0.6.0)\n",
      "Requirement already satisfied: pillow>=8.3.2 in c:\\users\\user\\anaconda3\\lib\\site-packages (from imageio<3.0,>=2.5->moviepy==1.0.3) (10.2.0)\n",
      "Requirement already satisfied: charset-normalizer<4,>=2 in c:\\users\\user\\anaconda3\\lib\\site-packages (from requests<3.0,>=2.8.1->moviepy==1.0.3) (2.0.4)\n",
      "Requirement already satisfied: idna<4,>=2.5 in c:\\users\\user\\anaconda3\\lib\\site-packages (from requests<3.0,>=2.8.1->moviepy==1.0.3) (3.4)\n",
      "Requirement already satisfied: urllib3<3,>=1.21.1 in c:\\users\\user\\anaconda3\\lib\\site-packages (from requests<3.0,>=2.8.1->moviepy==1.0.3) (2.0.7)\n",
      "Requirement already satisfied: certifi>=2017.4.17 in c:\\users\\user\\anaconda3\\lib\\site-packages (from requests<3.0,>=2.8.1->moviepy==1.0.3) (2024.12.14)\n",
      "Requirement already satisfied: colorama in c:\\users\\user\\appdata\\roaming\\python\\python311\\site-packages (from tqdm<5.0,>=4.11.2->moviepy==1.0.3) (0.4.6)\n",
      "Using cached decorator-4.4.2-py2.py3-none-any.whl (9.2 kB)\n",
      "Installing collected packages: decorator, moviepy\n",
      "  Attempting uninstall: decorator\n",
      "    Found existing installation: decorator 5.1.1\n",
      "    Uninstalling decorator-5.1.1:\n",
      "      Successfully uninstalled decorator-5.1.1\n",
      "  Attempting uninstall: moviepy\n",
      "    Found existing installation: moviepy 2.1.2\n",
      "    Uninstalling moviepy-2.1.2:\n",
      "      Successfully uninstalled moviepy-2.1.2\n",
      "Successfully installed decorator-4.4.2 moviepy-1.0.3\n"
     ]
    },
    {
     "name": "stderr",
     "output_type": "stream",
     "text": [
      "    WARNING: Skipping C:\\Users\\user\\anaconda3\\Lib\\site-packages\\decorator-5.1.1.dist-info due to invalid metadata entry 'name'\n",
      "WARNING: Skipping C:\\Users\\user\\anaconda3\\Lib\\site-packages\\decorator-5.1.1.dist-info due to invalid metadata entry 'name'\n",
      "ERROR: pip's dependency resolver does not currently take into account all the packages that are installed. This behaviour is the source of the following dependency conflicts.\n",
      "spyder 5.4.3 requires jedi<0.19.0,>=0.17.2, but you have jedi 0.19.1 which is incompatible.\n",
      "WARNING: Skipping C:\\Users\\user\\anaconda3\\Lib\\site-packages\\decorator-5.1.1.dist-info due to invalid metadata entry 'name'\n",
      "WARNING: Skipping C:\\Users\\user\\anaconda3\\Lib\\site-packages\\decorator-5.1.1.dist-info due to invalid metadata entry 'name'\n",
      "WARNING: Skipping C:\\Users\\user\\anaconda3\\Lib\\site-packages\\decorator-5.1.1.dist-info due to invalid metadata entry 'name'\n"
     ]
    },
    {
     "name": "stdout",
     "output_type": "stream",
     "text": [
      "Requirement already satisfied: moviepy in c:\\users\\user\\anaconda3\\lib\\site-packages (1.0.3)\n",
      "Collecting moviepy\n",
      "  Using cached moviepy-2.1.2-py3-none-any.whl.metadata (6.9 kB)\n",
      "Requirement already satisfied: decorator<6.0,>=4.0.2 in c:\\users\\user\\anaconda3\\lib\\site-packages (from moviepy) (4.4.2)\n",
      "Requirement already satisfied: imageio<3.0,>=2.5 in c:\\users\\user\\anaconda3\\lib\\site-packages (from moviepy) (2.37.0)\n",
      "Requirement already satisfied: imageio_ffmpeg>=0.2.0 in c:\\users\\user\\anaconda3\\lib\\site-packages (from moviepy) (0.6.0)\n",
      "Requirement already satisfied: numpy>=1.25.0 in c:\\users\\user\\anaconda3\\lib\\site-packages (from moviepy) (1.26.4)\n",
      "Requirement already satisfied: proglog<=1.0.0 in c:\\users\\user\\anaconda3\\lib\\site-packages (from moviepy) (0.1.10)\n",
      "Requirement already satisfied: python-dotenv>=0.10 in c:\\users\\user\\anaconda3\\lib\\site-packages (from moviepy) (0.21.0)\n",
      "Requirement already satisfied: pillow<11.0,>=9.2.0 in c:\\users\\user\\anaconda3\\lib\\site-packages (from moviepy) (10.2.0)\n",
      "Requirement already satisfied: tqdm in c:\\users\\user\\anaconda3\\lib\\site-packages (from proglog<=1.0.0->moviepy) (4.65.0)\n",
      "Requirement already satisfied: colorama in c:\\users\\user\\appdata\\roaming\\python\\python311\\site-packages (from tqdm->proglog<=1.0.0->moviepy) (0.4.6)\n",
      "Using cached moviepy-2.1.2-py3-none-any.whl (126 kB)\n",
      "Installing collected packages: moviepy\n",
      "  Attempting uninstall: moviepy\n",
      "    Found existing installation: moviepy 1.0.3\n",
      "    Uninstalling moviepy-1.0.3:\n",
      "      Successfully uninstalled moviepy-1.0.3\n",
      "Successfully installed moviepy-2.1.2\n"
     ]
    },
    {
     "name": "stderr",
     "output_type": "stream",
     "text": [
      "WARNING: Skipping C:\\Users\\user\\anaconda3\\Lib\\site-packages\\decorator-5.1.1.dist-info due to invalid metadata entry 'name'\n",
      "WARNING: Skipping C:\\Users\\user\\anaconda3\\Lib\\site-packages\\decorator-5.1.1.dist-info due to invalid metadata entry 'name'\n",
      "WARNING: Skipping C:\\Users\\user\\anaconda3\\Lib\\site-packages\\decorator-5.1.1.dist-info due to invalid metadata entry 'name'\n",
      "    WARNING: Skipping C:\\Users\\user\\anaconda3\\Lib\\site-packages\\decorator-5.1.1.dist-info due to invalid metadata entry 'name'\n",
      "WARNING: Skipping C:\\Users\\user\\anaconda3\\Lib\\site-packages\\decorator-5.1.1.dist-info due to invalid metadata entry 'name'\n",
      "WARNING: Skipping C:\\Users\\user\\anaconda3\\Lib\\site-packages\\decorator-5.1.1.dist-info due to invalid metadata entry 'name'\n",
      "WARNING: Skipping C:\\Users\\user\\anaconda3\\Lib\\site-packages\\decorator-5.1.1.dist-info due to invalid metadata entry 'name'\n",
      "WARNING: Skipping C:\\Users\\user\\anaconda3\\Lib\\site-packages\\decorator-5.1.1.dist-info due to invalid metadata entry 'name'\n"
     ]
    },
    {
     "name": "stdout",
     "output_type": "stream",
     "text": [
      "Requirement already satisfied: imageio in c:\\users\\user\\anaconda3\\lib\\site-packages (2.37.0)\n",
      "Requirement already satisfied: decorator in c:\\users\\user\\anaconda3\\lib\\site-packages (4.4.2)\n",
      "Collecting decorator\n",
      "  Using cached decorator-5.1.1-py3-none-any.whl.metadata (4.0 kB)\n",
      "Requirement already satisfied: numpy in c:\\users\\user\\anaconda3\\lib\\site-packages (from imageio) (1.26.4)\n",
      "Requirement already satisfied: pillow>=8.3.2 in c:\\users\\user\\anaconda3\\lib\\site-packages (from imageio) (10.2.0)\n",
      "Using cached decorator-5.1.1-py3-none-any.whl (9.1 kB)\n",
      "Installing collected packages: decorator\n",
      "  Attempting uninstall: decorator\n",
      "    Found existing installation: decorator 4.4.2\n",
      "    Uninstalling decorator-4.4.2:\n",
      "      Successfully uninstalled decorator-4.4.2\n",
      "Successfully installed decorator-5.1.1\n"
     ]
    },
    {
     "name": "stderr",
     "output_type": "stream",
     "text": [
      "WARNING: Skipping C:\\Users\\user\\anaconda3\\Lib\\site-packages\\decorator-5.1.1.dist-info due to invalid metadata entry 'name'\n",
      "WARNING: Skipping C:\\Users\\user\\anaconda3\\Lib\\site-packages\\decorator-5.1.1.dist-info due to invalid metadata entry 'name'\n",
      "WARNING: Skipping C:\\Users\\user\\anaconda3\\Lib\\site-packages\\decorator-5.1.1.dist-info due to invalid metadata entry 'name'\n",
      "ERROR: pip's dependency resolver does not currently take into account all the packages that are installed. This behaviour is the source of the following dependency conflicts.\n",
      "spyder 5.4.3 requires jedi<0.19.0,>=0.17.2, but you have jedi 0.19.1 which is incompatible.\n"
     ]
    }
   ],
   "source": [
    "!pip install moviepy==1.0.3\n",
    "!pip install --upgrade moviepy\n",
    "!pip install --upgrade imageio decorator"
   ]
  },
  {
   "cell_type": "code",
   "execution_count": 80,
   "id": "e6521f47-cb91-4884-b265-acece0e9e73f",
   "metadata": {},
   "outputs": [
    {
     "name": "stdout",
     "output_type": "stream",
     "text": [
      "Processing video: videos\\video_1.mp4 (Start: 0.0s, End: 44.0s)\n",
      "MoviePy - Running:\n",
      ">>> C:\\Users\\user\\anaconda3\\Lib\\site-packages\\imageio_ffmpeg\\binaries\\ffmpeg-win-x86_64-v7.1.exe -y -ss 0.00 -i videos\\video_1.mp4 -t 44.00 -map 0 -vcodec copy -acodec copy -copyts trimmed_videos\\video_1_trimmed.mp4\n",
      "MoviePy - Command successful\n",
      "Trimmed video saved to: trimmed_videos\\video_1_trimmed.mp4\n",
      "Processing video: videos\\video_2.mp4 (Start: 0.0s, End: 153.0s)\n",
      "MoviePy - Running:\n",
      ">>> C:\\Users\\user\\anaconda3\\Lib\\site-packages\\imageio_ffmpeg\\binaries\\ffmpeg-win-x86_64-v7.1.exe -y -ss 0.00 -i videos\\video_2.mp4 -t 153.00 -map 0 -vcodec copy -acodec copy -copyts trimmed_videos\\video_2_trimmed.mp4\n",
      "MoviePy - Command successful\n",
      "Trimmed video saved to: trimmed_videos\\video_2_trimmed.mp4\n",
      "Processing video: videos\\video_3.mp4 (Start: 0.0s, End: 178.0s)\n",
      "MoviePy - Running:\n",
      ">>> C:\\Users\\user\\anaconda3\\Lib\\site-packages\\imageio_ffmpeg\\binaries\\ffmpeg-win-x86_64-v7.1.exe -y -ss 0.00 -i videos\\video_3.mp4 -t 178.00 -map 0 -vcodec copy -acodec copy -copyts trimmed_videos\\video_3_trimmed.mp4\n",
      "MoviePy - Command successful\n",
      "Trimmed video saved to: trimmed_videos\\video_3_trimmed.mp4\n",
      "Processing video: videos\\video_4.mp4 (Start: 0.0s, End: 32.0s)\n",
      "MoviePy - Running:\n",
      ">>> C:\\Users\\user\\anaconda3\\Lib\\site-packages\\imageio_ffmpeg\\binaries\\ffmpeg-win-x86_64-v7.1.exe -y -ss 0.00 -i videos\\video_4.mp4 -t 32.00 -map 0 -vcodec copy -acodec copy -copyts trimmed_videos\\video_4_trimmed.mp4\n",
      "MoviePy - Command successful\n",
      "Trimmed video saved to: trimmed_videos\\video_4_trimmed.mp4\n",
      "Processing video: videos\\video_5.mp4 (Start: 14.0s, End: 52.0s)\n",
      "MoviePy - Running:\n",
      ">>> C:\\Users\\user\\anaconda3\\Lib\\site-packages\\imageio_ffmpeg\\binaries\\ffmpeg-win-x86_64-v7.1.exe -y -ss 14.00 -i videos\\video_5.mp4 -t 38.00 -map 0 -vcodec copy -acodec copy -copyts trimmed_videos\\video_5_trimmed.mp4\n",
      "MoviePy - Command successful\n",
      "Trimmed video saved to: trimmed_videos\\video_5_trimmed.mp4\n",
      "Processing video: videos\\video_6.mp4 (Start: 381.0s, End: 399.0s)\n",
      "MoviePy - Running:\n",
      ">>> C:\\Users\\user\\anaconda3\\Lib\\site-packages\\imageio_ffmpeg\\binaries\\ffmpeg-win-x86_64-v7.1.exe -y -ss 381.00 -i videos\\video_6.mp4 -t 18.00 -map 0 -vcodec copy -acodec copy -copyts trimmed_videos\\video_6_trimmed.mp4\n",
      "MoviePy - Command successful\n",
      "Trimmed video saved to: trimmed_videos\\video_6_trimmed.mp4\n",
      "Video file not found: videos\\video_7.mp4\n",
      "Video file not found: videos\\video_8.mp4\n",
      "Processing video: videos\\video_9.mp4 (Start: 7.0s, End: 106.0s)\n",
      "MoviePy - Running:\n",
      ">>> C:\\Users\\user\\anaconda3\\Lib\\site-packages\\imageio_ffmpeg\\binaries\\ffmpeg-win-x86_64-v7.1.exe -y -ss 7.00 -i videos\\video_9.mp4 -t 99.00 -map 0 -vcodec copy -acodec copy -copyts trimmed_videos\\video_9_trimmed.mp4\n",
      "MoviePy - Command successful\n",
      "Trimmed video saved to: trimmed_videos\\video_9_trimmed.mp4\n",
      "Processing video: videos\\video_10.mp4 (Start: 11.0s, End: 61.0s)\n",
      "MoviePy - Running:\n",
      ">>> C:\\Users\\user\\anaconda3\\Lib\\site-packages\\imageio_ffmpeg\\binaries\\ffmpeg-win-x86_64-v7.1.exe -y -ss 11.00 -i videos\\video_10.mp4 -t 50.00 -map 0 -vcodec copy -acodec copy -copyts trimmed_videos\\video_10_trimmed.mp4\n",
      "MoviePy - Command successful\n",
      "Trimmed video saved to: trimmed_videos\\video_10_trimmed.mp4\n",
      "Processing video: videos\\video_11.mp4 (Start: 90.0s, End: 101.0s)\n",
      "MoviePy - Running:\n",
      ">>> C:\\Users\\user\\anaconda3\\Lib\\site-packages\\imageio_ffmpeg\\binaries\\ffmpeg-win-x86_64-v7.1.exe -y -ss 90.00 -i videos\\video_11.mp4 -t 11.00 -map 0 -vcodec copy -acodec copy -copyts trimmed_videos\\video_11_trimmed.mp4\n",
      "MoviePy - Command successful\n",
      "Trimmed video saved to: trimmed_videos\\video_11_trimmed.mp4\n",
      "Video file not found: videos\\video_12.mp4\n",
      "Processing video: videos\\video_13.mp4 (Start: 356.0s, End: 366.0s)\n",
      "MoviePy - Running:\n",
      ">>> C:\\Users\\user\\anaconda3\\Lib\\site-packages\\imageio_ffmpeg\\binaries\\ffmpeg-win-x86_64-v7.1.exe -y -ss 356.00 -i videos\\video_13.mp4 -t 10.00 -map 0 -vcodec copy -acodec copy -copyts trimmed_videos\\video_13_trimmed.mp4\n",
      "MoviePy - Command successful\n",
      "Trimmed video saved to: trimmed_videos\\video_13_trimmed.mp4\n",
      "Processing video: videos\\video_14.mp4 (Start: 387.0s, End: 399.0s)\n",
      "MoviePy - Running:\n",
      ">>> C:\\Users\\user\\anaconda3\\Lib\\site-packages\\imageio_ffmpeg\\binaries\\ffmpeg-win-x86_64-v7.1.exe -y -ss 387.00 -i videos\\video_14.mp4 -t 12.00 -map 0 -vcodec copy -acodec copy -copyts trimmed_videos\\video_14_trimmed.mp4\n",
      "MoviePy - Command successful\n",
      "Trimmed video saved to: trimmed_videos\\video_14_trimmed.mp4\n",
      "Processing video: videos\\video_15.mp4 (Start: 480.0s, End: 557.0s)\n",
      "MoviePy - Running:\n",
      ">>> C:\\Users\\user\\anaconda3\\Lib\\site-packages\\imageio_ffmpeg\\binaries\\ffmpeg-win-x86_64-v7.1.exe -y -ss 480.00 -i videos\\video_15.mp4 -t 77.00 -map 0 -vcodec copy -acodec copy -copyts trimmed_videos\\video_15_trimmed.mp4\n",
      "MoviePy - Command successful\n",
      "Trimmed video saved to: trimmed_videos\\video_15_trimmed.mp4\n",
      "Processing video: videos\\video_16.mp4 (Start: 373.0s, End: 380.0s)\n",
      "MoviePy - Running:\n",
      ">>> C:\\Users\\user\\anaconda3\\Lib\\site-packages\\imageio_ffmpeg\\binaries\\ffmpeg-win-x86_64-v7.1.exe -y -ss 373.00 -i videos\\video_16.mp4 -t 7.00 -map 0 -vcodec copy -acodec copy -copyts trimmed_videos\\video_16_trimmed.mp4\n",
      "MoviePy - Command successful\n",
      "Trimmed video saved to: trimmed_videos\\video_16_trimmed.mp4\n",
      "Processing video: videos\\video_17.mp4 (Start: 129.0s, End: 136.0s)\n",
      "MoviePy - Running:\n",
      ">>> C:\\Users\\user\\anaconda3\\Lib\\site-packages\\imageio_ffmpeg\\binaries\\ffmpeg-win-x86_64-v7.1.exe -y -ss 129.00 -i videos\\video_17.mp4 -t 7.00 -map 0 -vcodec copy -acodec copy -copyts trimmed_videos\\video_17_trimmed.mp4\n",
      "MoviePy - Command successful\n",
      "Trimmed video saved to: trimmed_videos\\video_17_trimmed.mp4\n",
      "Video file not found: videos\\video_18.mp4\n",
      "Processing video: videos\\video_19.mp4 (Start: 0.0s, End: 65.0s)\n",
      "MoviePy - Running:\n",
      ">>> C:\\Users\\user\\anaconda3\\Lib\\site-packages\\imageio_ffmpeg\\binaries\\ffmpeg-win-x86_64-v7.1.exe -y -ss 0.00 -i videos\\video_19.mp4 -t 65.00 -map 0 -vcodec copy -acodec copy -copyts trimmed_videos\\video_19_trimmed.mp4\n",
      "MoviePy - Command successful\n",
      "Trimmed video saved to: trimmed_videos\\video_19_trimmed.mp4\n",
      "Processing video: videos\\video_20.mp4 (Start: 3.0s, End: 30.0s)\n",
      "MoviePy - Running:\n",
      ">>> C:\\Users\\user\\anaconda3\\Lib\\site-packages\\imageio_ffmpeg\\binaries\\ffmpeg-win-x86_64-v7.1.exe -y -ss 3.00 -i videos\\video_20.mp4 -t 27.00 -map 0 -vcodec copy -acodec copy -copyts trimmed_videos\\video_20_trimmed.mp4\n",
      "MoviePy - Command successful\n",
      "Trimmed video saved to: trimmed_videos\\video_20_trimmed.mp4\n",
      "Processing video: videos\\video_21.mp4 (Start: 53.0s, End: 87.0s)\n",
      "MoviePy - Running:\n",
      ">>> C:\\Users\\user\\anaconda3\\Lib\\site-packages\\imageio_ffmpeg\\binaries\\ffmpeg-win-x86_64-v7.1.exe -y -ss 53.00 -i videos\\video_21.mp4 -t 34.00 -map 0 -vcodec copy -acodec copy -copyts trimmed_videos\\video_21_trimmed.mp4\n",
      "MoviePy - Command successful\n",
      "Trimmed video saved to: trimmed_videos\\video_21_trimmed.mp4\n",
      "Video file not found: videos\\video_22.mp4\n",
      "Video file not found: videos\\video_23.mp4\n",
      "Processing video: videos\\video_24.mp4 (Start: 0.0s, End: 35.0s)\n",
      "MoviePy - Running:\n",
      ">>> C:\\Users\\user\\anaconda3\\Lib\\site-packages\\imageio_ffmpeg\\binaries\\ffmpeg-win-x86_64-v7.1.exe -y -ss 0.00 -i videos\\video_24.mp4 -t 35.00 -map 0 -vcodec copy -acodec copy -copyts trimmed_videos\\video_24_trimmed.mp4\n",
      "MoviePy - Command successful\n",
      "Trimmed video saved to: trimmed_videos\\video_24_trimmed.mp4\n",
      "Video file not found: videos\\video_25.mp4\n",
      "Video file not found: videos\\video_26.mp4\n",
      "Video file not found: videos\\video_27.mp4\n",
      "Video file not found: videos\\video_28.mp4\n",
      "Video file not found: videos\\video_29.mp4\n",
      "Video file not found: videos\\video_30.mp4\n",
      "Processing video: videos\\video_31.mp4 (Start: 27.0s, End: 40.0s)\n",
      "MoviePy - Running:\n",
      ">>> C:\\Users\\user\\anaconda3\\Lib\\site-packages\\imageio_ffmpeg\\binaries\\ffmpeg-win-x86_64-v7.1.exe -y -ss 27.00 -i videos\\video_31.mp4 -t 13.00 -map 0 -vcodec copy -acodec copy -copyts trimmed_videos\\video_31_trimmed.mp4\n",
      "MoviePy - Command successful\n",
      "Trimmed video saved to: trimmed_videos\\video_31_trimmed.mp4\n",
      "Processing video: videos\\video_32.mp4 (Start: 0.0s, End: 53.0s)\n",
      "MoviePy - Running:\n",
      ">>> C:\\Users\\user\\anaconda3\\Lib\\site-packages\\imageio_ffmpeg\\binaries\\ffmpeg-win-x86_64-v7.1.exe -y -ss 0.00 -i videos\\video_32.mp4 -t 53.00 -map 0 -vcodec copy -acodec copy -copyts trimmed_videos\\video_32_trimmed.mp4\n",
      "MoviePy - Command successful\n",
      "Trimmed video saved to: trimmed_videos\\video_32_trimmed.mp4\n",
      "Processing video: videos\\video_33.mp4 (Start: 49.0s, End: 58.0s)\n",
      "MoviePy - Running:\n",
      ">>> C:\\Users\\user\\anaconda3\\Lib\\site-packages\\imageio_ffmpeg\\binaries\\ffmpeg-win-x86_64-v7.1.exe -y -ss 49.00 -i videos\\video_33.mp4 -t 9.00 -map 0 -vcodec copy -acodec copy -copyts trimmed_videos\\video_33_trimmed.mp4\n",
      "MoviePy - Command successful\n",
      "Trimmed video saved to: trimmed_videos\\video_33_trimmed.mp4\n",
      "Processing video: videos\\video_34.mp4 (Start: 62.0s, End: 78.0s)\n",
      "MoviePy - Running:\n",
      ">>> C:\\Users\\user\\anaconda3\\Lib\\site-packages\\imageio_ffmpeg\\binaries\\ffmpeg-win-x86_64-v7.1.exe -y -ss 62.00 -i videos\\video_34.mp4 -t 16.00 -map 0 -vcodec copy -acodec copy -copyts trimmed_videos\\video_34_trimmed.mp4\n",
      "MoviePy - Command successful\n",
      "Trimmed video saved to: trimmed_videos\\video_34_trimmed.mp4\n",
      "Processing video: videos\\video_35.mp4 (Start: 0.0s, End: 25.0s)\n",
      "MoviePy - Running:\n",
      ">>> C:\\Users\\user\\anaconda3\\Lib\\site-packages\\imageio_ffmpeg\\binaries\\ffmpeg-win-x86_64-v7.1.exe -y -ss 0.00 -i videos\\video_35.mp4 -t 25.00 -map 0 -vcodec copy -acodec copy -copyts trimmed_videos\\video_35_trimmed.mp4\n",
      "MoviePy - Command successful\n",
      "Trimmed video saved to: trimmed_videos\\video_35_trimmed.mp4\n",
      "Processing video: videos\\video_36.mp4 (Start: 0.0s, End: 45.0s)\n",
      "MoviePy - Running:\n",
      ">>> C:\\Users\\user\\anaconda3\\Lib\\site-packages\\imageio_ffmpeg\\binaries\\ffmpeg-win-x86_64-v7.1.exe -y -ss 0.00 -i videos\\video_36.mp4 -t 45.00 -map 0 -vcodec copy -acodec copy -copyts trimmed_videos\\video_36_trimmed.mp4\n",
      "MoviePy - Command successful\n",
      "Trimmed video saved to: trimmed_videos\\video_36_trimmed.mp4\n",
      "Processing video: videos\\video_37.mp4 (Start: 17.0s, End: 107.0s)\n",
      "MoviePy - Running:\n",
      ">>> C:\\Users\\user\\anaconda3\\Lib\\site-packages\\imageio_ffmpeg\\binaries\\ffmpeg-win-x86_64-v7.1.exe -y -ss 17.00 -i videos\\video_37.mp4 -t 90.00 -map 0 -vcodec copy -acodec copy -copyts trimmed_videos\\video_37_trimmed.mp4\n",
      "MoviePy - Command successful\n",
      "Trimmed video saved to: trimmed_videos\\video_37_trimmed.mp4\n",
      "Processing video: videos\\video_38.mp4 (Start: 0.0s, End: 78.0s)\n",
      "MoviePy - Running:\n",
      ">>> C:\\Users\\user\\anaconda3\\Lib\\site-packages\\imageio_ffmpeg\\binaries\\ffmpeg-win-x86_64-v7.1.exe -y -ss 0.00 -i videos\\video_38.mp4 -t 78.00 -map 0 -vcodec copy -acodec copy -copyts trimmed_videos\\video_38_trimmed.mp4\n",
      "MoviePy - Command successful\n",
      "Trimmed video saved to: trimmed_videos\\video_38_trimmed.mp4\n",
      "Video file not found: videos\\video_39.mp4\n",
      "Processing video: videos\\video_40.mp4 (Start: 0.0s, End: 10.0s)\n",
      "MoviePy - Running:\n",
      ">>> C:\\Users\\user\\anaconda3\\Lib\\site-packages\\imageio_ffmpeg\\binaries\\ffmpeg-win-x86_64-v7.1.exe -y -ss 0.00 -i videos\\video_40.mp4 -t 10.00 -map 0 -vcodec copy -acodec copy -copyts trimmed_videos\\video_40_trimmed.mp4\n",
      "MoviePy - Command successful\n",
      "Trimmed video saved to: trimmed_videos\\video_40_trimmed.mp4\n",
      "Processing video: videos\\video_41.mp4 (Start: 0.0s, End: 84.0s)\n",
      "MoviePy - Running:\n",
      ">>> C:\\Users\\user\\anaconda3\\Lib\\site-packages\\imageio_ffmpeg\\binaries\\ffmpeg-win-x86_64-v7.1.exe -y -ss 0.00 -i videos\\video_41.mp4 -t 84.00 -map 0 -vcodec copy -acodec copy -copyts trimmed_videos\\video_41_trimmed.mp4\n",
      "MoviePy - Command successful\n",
      "Trimmed video saved to: trimmed_videos\\video_41_trimmed.mp4\n",
      "Video file not found: videos\\video_42.mp4\n",
      "Processing video: videos\\video_43.mp4 (Start: 0.0s, End: 27.0s)\n",
      "MoviePy - Running:\n",
      ">>> C:\\Users\\user\\anaconda3\\Lib\\site-packages\\imageio_ffmpeg\\binaries\\ffmpeg-win-x86_64-v7.1.exe -y -ss 0.00 -i videos\\video_43.mp4 -t 27.00 -map 0 -vcodec copy -acodec copy -copyts trimmed_videos\\video_43_trimmed.mp4\n",
      "MoviePy - Command successful\n",
      "Trimmed video saved to: trimmed_videos\\video_43_trimmed.mp4\n",
      "Processing video: videos\\video_44.mp4 (Start: 0.0s, End: 41.0s)\n",
      "MoviePy - Running:\n",
      ">>> C:\\Users\\user\\anaconda3\\Lib\\site-packages\\imageio_ffmpeg\\binaries\\ffmpeg-win-x86_64-v7.1.exe -y -ss 0.00 -i videos\\video_44.mp4 -t 41.00 -map 0 -vcodec copy -acodec copy -copyts trimmed_videos\\video_44_trimmed.mp4\n",
      "MoviePy - Command successful\n",
      "Trimmed video saved to: trimmed_videos\\video_44_trimmed.mp4\n",
      "Video file not found: videos\\video_45.mp4\n",
      "Processing video: videos\\video_46.mp4 (Start: 0.0s, End: 32.0s)\n",
      "MoviePy - Running:\n",
      ">>> C:\\Users\\user\\anaconda3\\Lib\\site-packages\\imageio_ffmpeg\\binaries\\ffmpeg-win-x86_64-v7.1.exe -y -ss 0.00 -i videos\\video_46.mp4 -t 32.00 -map 0 -vcodec copy -acodec copy -copyts trimmed_videos\\video_46_trimmed.mp4\n",
      "MoviePy - Command successful\n",
      "Trimmed video saved to: trimmed_videos\\video_46_trimmed.mp4\n",
      "Video file not found: videos\\video_47.mp4\n",
      "Processing video: videos\\video_48.mp4 (Start: 5.0s, End: 35.0s)\n",
      "MoviePy - Running:\n",
      ">>> C:\\Users\\user\\anaconda3\\Lib\\site-packages\\imageio_ffmpeg\\binaries\\ffmpeg-win-x86_64-v7.1.exe -y -ss 5.00 -i videos\\video_48.mp4 -t 30.00 -map 0 -vcodec copy -acodec copy -copyts trimmed_videos\\video_48_trimmed.mp4\n",
      "MoviePy - Command successful\n",
      "Trimmed video saved to: trimmed_videos\\video_48_trimmed.mp4\n",
      "Processing video: videos\\video_49.mp4 (Start: 0.0s, End: 15.0s)\n",
      "MoviePy - Running:\n",
      ">>> C:\\Users\\user\\anaconda3\\Lib\\site-packages\\imageio_ffmpeg\\binaries\\ffmpeg-win-x86_64-v7.1.exe -y -ss 0.00 -i videos\\video_49.mp4 -t 15.00 -map 0 -vcodec copy -acodec copy -copyts trimmed_videos\\video_49_trimmed.mp4\n",
      "MoviePy - Command successful\n",
      "Trimmed video saved to: trimmed_videos\\video_49_trimmed.mp4\n",
      "Processing video: videos\\video_50.mp4 (Start: 0.0s, End: 20.0s)\n",
      "MoviePy - Running:\n",
      ">>> C:\\Users\\user\\anaconda3\\Lib\\site-packages\\imageio_ffmpeg\\binaries\\ffmpeg-win-x86_64-v7.1.exe -y -ss 0.00 -i videos\\video_50.mp4 -t 20.00 -map 0 -vcodec copy -acodec copy -copyts trimmed_videos\\video_50_trimmed.mp4\n",
      "MoviePy - Command successful\n",
      "Trimmed video saved to: trimmed_videos\\video_50_trimmed.mp4\n",
      "Processing video: videos\\video_51.mp4 (Start: 24.0s, End: 33.0s)\n",
      "MoviePy - Running:\n",
      ">>> C:\\Users\\user\\anaconda3\\Lib\\site-packages\\imageio_ffmpeg\\binaries\\ffmpeg-win-x86_64-v7.1.exe -y -ss 24.00 -i videos\\video_51.mp4 -t 9.00 -map 0 -vcodec copy -acodec copy -copyts trimmed_videos\\video_51_trimmed.mp4\n",
      "MoviePy - Command successful\n",
      "Trimmed video saved to: trimmed_videos\\video_51_trimmed.mp4\n",
      "Processing video: videos\\video_52.mp4 (Start: 53.0s, End: 75.0s)\n",
      "MoviePy - Running:\n",
      ">>> C:\\Users\\user\\anaconda3\\Lib\\site-packages\\imageio_ffmpeg\\binaries\\ffmpeg-win-x86_64-v7.1.exe -y -ss 53.00 -i videos\\video_52.mp4 -t 22.00 -map 0 -vcodec copy -acodec copy -copyts trimmed_videos\\video_52_trimmed.mp4\n",
      "MoviePy - Command successful\n",
      "Trimmed video saved to: trimmed_videos\\video_52_trimmed.mp4\n",
      "Video file not found: videos\\video_53.mp4\n",
      "Processing video: videos\\video_54.mp4 (Start: 0.0s, End: 33.0s)\n",
      "MoviePy - Running:\n",
      ">>> C:\\Users\\user\\anaconda3\\Lib\\site-packages\\imageio_ffmpeg\\binaries\\ffmpeg-win-x86_64-v7.1.exe -y -ss 0.00 -i videos\\video_54.mp4 -t 33.00 -map 0 -vcodec copy -acodec copy -copyts trimmed_videos\\video_54_trimmed.mp4\n",
      "MoviePy - Command successful\n",
      "Trimmed video saved to: trimmed_videos\\video_54_trimmed.mp4\n",
      "Video file not found: videos\\video_55.mp4\n",
      "Processing video: videos\\video_56.mp4 (Start: 0.0s, End: 24.0s)\n",
      "MoviePy - Running:\n",
      ">>> C:\\Users\\user\\anaconda3\\Lib\\site-packages\\imageio_ffmpeg\\binaries\\ffmpeg-win-x86_64-v7.1.exe -y -ss 0.00 -i videos\\video_56.mp4 -t 24.00 -map 0 -vcodec copy -acodec copy -copyts trimmed_videos\\video_56_trimmed.mp4\n",
      "MoviePy - Command successful\n",
      "Trimmed video saved to: trimmed_videos\\video_56_trimmed.mp4\n",
      "Processing video: videos\\video_57.mp4 (Start: 0.0s, End: 20.0s)\n",
      "MoviePy - Running:\n",
      ">>> C:\\Users\\user\\anaconda3\\Lib\\site-packages\\imageio_ffmpeg\\binaries\\ffmpeg-win-x86_64-v7.1.exe -y -ss 0.00 -i videos\\video_57.mp4 -t 20.00 -map 0 -vcodec copy -acodec copy -copyts trimmed_videos\\video_57_trimmed.mp4\n",
      "MoviePy - Command successful\n",
      "Trimmed video saved to: trimmed_videos\\video_57_trimmed.mp4\n",
      "Processing video: videos\\video_58.mp4 (Start: 0.0s, End: 37.0s)\n",
      "MoviePy - Running:\n",
      ">>> C:\\Users\\user\\anaconda3\\Lib\\site-packages\\imageio_ffmpeg\\binaries\\ffmpeg-win-x86_64-v7.1.exe -y -ss 0.00 -i videos\\video_58.mp4 -t 37.00 -map 0 -vcodec copy -acodec copy -copyts trimmed_videos\\video_58_trimmed.mp4\n",
      "MoviePy - Command successful\n",
      "Trimmed video saved to: trimmed_videos\\video_58_trimmed.mp4\n",
      "Processing video: videos\\video_59.mp4 (Start: 30.0s, End: 57.0s)\n",
      "MoviePy - Running:\n",
      ">>> C:\\Users\\user\\anaconda3\\Lib\\site-packages\\imageio_ffmpeg\\binaries\\ffmpeg-win-x86_64-v7.1.exe -y -ss 30.00 -i videos\\video_59.mp4 -t 27.00 -map 0 -vcodec copy -acodec copy -copyts trimmed_videos\\video_59_trimmed.mp4\n",
      "MoviePy - Command successful\n",
      "Trimmed video saved to: trimmed_videos\\video_59_trimmed.mp4\n",
      "Video file not found: videos\\video_60.mp4\n",
      "Video file not found: videos\\video_61.mp4\n",
      "Processing video: videos\\video_62.mp4 (Start: 0.0s, End: 67.0s)\n",
      "MoviePy - Running:\n",
      ">>> C:\\Users\\user\\anaconda3\\Lib\\site-packages\\imageio_ffmpeg\\binaries\\ffmpeg-win-x86_64-v7.1.exe -y -ss 0.00 -i videos\\video_62.mp4 -t 67.00 -map 0 -vcodec copy -acodec copy -copyts trimmed_videos\\video_62_trimmed.mp4\n",
      "MoviePy - Command successful\n",
      "Trimmed video saved to: trimmed_videos\\video_62_trimmed.mp4\n",
      "Processing video: videos\\video_63.mp4 (Start: 0.0s, End: 37.0s)\n",
      "MoviePy - Running:\n",
      ">>> C:\\Users\\user\\anaconda3\\Lib\\site-packages\\imageio_ffmpeg\\binaries\\ffmpeg-win-x86_64-v7.1.exe -y -ss 0.00 -i videos\\video_63.mp4 -t 37.00 -map 0 -vcodec copy -acodec copy -copyts trimmed_videos\\video_63_trimmed.mp4\n",
      "MoviePy - Command successful\n",
      "Trimmed video saved to: trimmed_videos\\video_63_trimmed.mp4\n",
      "Processing video: videos\\video_64.mp4 (Start: 0.0s, End: 163.0s)\n",
      "MoviePy - Running:\n",
      ">>> C:\\Users\\user\\anaconda3\\Lib\\site-packages\\imageio_ffmpeg\\binaries\\ffmpeg-win-x86_64-v7.1.exe -y -ss 0.00 -i videos\\video_64.mp4 -t 163.00 -map 0 -vcodec copy -acodec copy -copyts trimmed_videos\\video_64_trimmed.mp4\n",
      "MoviePy - Command successful\n",
      "Trimmed video saved to: trimmed_videos\\video_64_trimmed.mp4\n",
      "Processing video: videos\\video_65.mp4 (Start: 45.0s, End: 111.0s)\n",
      "MoviePy - Running:\n",
      ">>> C:\\Users\\user\\anaconda3\\Lib\\site-packages\\imageio_ffmpeg\\binaries\\ffmpeg-win-x86_64-v7.1.exe -y -ss 45.00 -i videos\\video_65.mp4 -t 66.00 -map 0 -vcodec copy -acodec copy -copyts trimmed_videos\\video_65_trimmed.mp4\n",
      "MoviePy - Command successful\n",
      "Trimmed video saved to: trimmed_videos\\video_65_trimmed.mp4\n",
      "Video file not found: videos\\video_66.mp4\n",
      "Video file not found: videos\\video_67.mp4\n",
      "Video file not found: videos\\video_68.mp4\n",
      "Video file not found: videos\\video_69.mp4\n",
      "Video file not found: videos\\video_70.mp4\n",
      "Video file not found: videos\\video_71.mp4\n",
      "Processing video: videos\\video_72.mp4 (Start: 0.0s, End: 72.0s)\n",
      "MoviePy - Running:\n",
      ">>> C:\\Users\\user\\anaconda3\\Lib\\site-packages\\imageio_ffmpeg\\binaries\\ffmpeg-win-x86_64-v7.1.exe -y -ss 0.00 -i videos\\video_72.mp4 -t 72.00 -map 0 -vcodec copy -acodec copy -copyts trimmed_videos\\video_72_trimmed.mp4\n",
      "MoviePy - Command successful\n",
      "Trimmed video saved to: trimmed_videos\\video_72_trimmed.mp4\n",
      "Processing video: videos\\video_73.mp4 (Start: 0.0s, End: 72.0s)\n",
      "MoviePy - Running:\n",
      ">>> C:\\Users\\user\\anaconda3\\Lib\\site-packages\\imageio_ffmpeg\\binaries\\ffmpeg-win-x86_64-v7.1.exe -y -ss 0.00 -i videos\\video_73.mp4 -t 72.00 -map 0 -vcodec copy -acodec copy -copyts trimmed_videos\\video_73_trimmed.mp4\n",
      "MoviePy - Command successful\n",
      "Trimmed video saved to: trimmed_videos\\video_73_trimmed.mp4\n",
      "Video file not found: videos\\video_74.mp4\n",
      "Video file not found: videos\\video_75.mp4\n",
      "Processing video: videos\\video_76.mp4 (Start: 0.0s, End: 79.0s)\n",
      "MoviePy - Running:\n",
      ">>> C:\\Users\\user\\anaconda3\\Lib\\site-packages\\imageio_ffmpeg\\binaries\\ffmpeg-win-x86_64-v7.1.exe -y -ss 0.00 -i videos\\video_76.mp4 -t 79.00 -map 0 -vcodec copy -acodec copy -copyts trimmed_videos\\video_76_trimmed.mp4\n",
      "MoviePy - Command successful\n",
      "Trimmed video saved to: trimmed_videos\\video_76_trimmed.mp4\n",
      "Processing video: videos\\video_77.mp4 (Start: 0.0s, End: 79.0s)\n",
      "MoviePy - Running:\n",
      ">>> C:\\Users\\user\\anaconda3\\Lib\\site-packages\\imageio_ffmpeg\\binaries\\ffmpeg-win-x86_64-v7.1.exe -y -ss 0.00 -i videos\\video_77.mp4 -t 79.00 -map 0 -vcodec copy -acodec copy -copyts trimmed_videos\\video_77_trimmed.mp4\n",
      "MoviePy - Command successful\n",
      "Trimmed video saved to: trimmed_videos\\video_77_trimmed.mp4\n",
      "Processing video: videos\\video_78.mp4 (Start: 0.0s, End: 37.0s)\n",
      "MoviePy - Running:\n",
      ">>> C:\\Users\\user\\anaconda3\\Lib\\site-packages\\imageio_ffmpeg\\binaries\\ffmpeg-win-x86_64-v7.1.exe -y -ss 0.00 -i videos\\video_78.mp4 -t 37.00 -map 0 -vcodec copy -acodec copy -copyts trimmed_videos\\video_78_trimmed.mp4\n",
      "MoviePy - Command successful\n",
      "Trimmed video saved to: trimmed_videos\\video_78_trimmed.mp4\n",
      "Processing video: videos\\video_79.mp4 (Start: 0.0s, End: 37.0s)\n",
      "MoviePy - Running:\n",
      ">>> C:\\Users\\user\\anaconda3\\Lib\\site-packages\\imageio_ffmpeg\\binaries\\ffmpeg-win-x86_64-v7.1.exe -y -ss 0.00 -i videos\\video_79.mp4 -t 37.00 -map 0 -vcodec copy -acodec copy -copyts trimmed_videos\\video_79_trimmed.mp4\n",
      "MoviePy - Command successful\n",
      "Trimmed video saved to: trimmed_videos\\video_79_trimmed.mp4\n",
      "Processing video: videos\\video_80.mp4 (Start: 34.0s, End: 84.0s)\n",
      "MoviePy - Running:\n",
      ">>> C:\\Users\\user\\anaconda3\\Lib\\site-packages\\imageio_ffmpeg\\binaries\\ffmpeg-win-x86_64-v7.1.exe -y -ss 34.00 -i videos\\video_80.mp4 -t 50.00 -map 0 -vcodec copy -acodec copy -copyts trimmed_videos\\video_80_trimmed.mp4\n",
      "MoviePy - Command successful\n",
      "Trimmed video saved to: trimmed_videos\\video_80_trimmed.mp4\n",
      "Processing video: videos\\video_81.mp4 (Start: 0.0s, End: 46.0s)\n",
      "MoviePy - Running:\n",
      ">>> C:\\Users\\user\\anaconda3\\Lib\\site-packages\\imageio_ffmpeg\\binaries\\ffmpeg-win-x86_64-v7.1.exe -y -ss 0.00 -i videos\\video_81.mp4 -t 46.00 -map 0 -vcodec copy -acodec copy -copyts trimmed_videos\\video_81_trimmed.mp4\n",
      "MoviePy - Command successful\n",
      "Trimmed video saved to: trimmed_videos\\video_81_trimmed.mp4\n",
      "Processing video: videos\\video_82.mp4 (Start: 0.0s, End: 57.0s)\n",
      "MoviePy - Running:\n",
      ">>> C:\\Users\\user\\anaconda3\\Lib\\site-packages\\imageio_ffmpeg\\binaries\\ffmpeg-win-x86_64-v7.1.exe -y -ss 0.00 -i videos\\video_82.mp4 -t 57.00 -map 0 -vcodec copy -acodec copy -copyts trimmed_videos\\video_82_trimmed.mp4\n",
      "MoviePy - Command successful\n",
      "Trimmed video saved to: trimmed_videos\\video_82_trimmed.mp4\n",
      "Processing video: videos\\video_83.mp4 (Start: 0.0s, End: 10.0s)\n",
      "MoviePy - Running:\n",
      ">>> C:\\Users\\user\\anaconda3\\Lib\\site-packages\\imageio_ffmpeg\\binaries\\ffmpeg-win-x86_64-v7.1.exe -y -ss 0.00 -i videos\\video_83.mp4 -t 10.00 -map 0 -vcodec copy -acodec copy -copyts trimmed_videos\\video_83_trimmed.mp4\n",
      "MoviePy - Command successful\n",
      "Trimmed video saved to: trimmed_videos\\video_83_trimmed.mp4\n",
      "Processing video: videos\\video_84.mp4 (Start: 77.0s, End: 90.0s)\n",
      "MoviePy - Running:\n",
      ">>> C:\\Users\\user\\anaconda3\\Lib\\site-packages\\imageio_ffmpeg\\binaries\\ffmpeg-win-x86_64-v7.1.exe -y -ss 77.00 -i videos\\video_84.mp4 -t 13.00 -map 0 -vcodec copy -acodec copy -copyts trimmed_videos\\video_84_trimmed.mp4\n",
      "MoviePy - Command successful\n",
      "Trimmed video saved to: trimmed_videos\\video_84_trimmed.mp4\n",
      "Video file not found: videos\\video_85.mp4\n",
      "Video file not found: videos\\video_86.mp4\n",
      "Processing video: videos\\video_87.mp4 (Start: 0.0s, End: 15.0s)\n",
      "MoviePy - Running:\n",
      ">>> C:\\Users\\user\\anaconda3\\Lib\\site-packages\\imageio_ffmpeg\\binaries\\ffmpeg-win-x86_64-v7.1.exe -y -ss 0.00 -i videos\\video_87.mp4 -t 15.00 -map 0 -vcodec copy -acodec copy -copyts trimmed_videos\\video_87_trimmed.mp4\n",
      "MoviePy - Command successful\n",
      "Trimmed video saved to: trimmed_videos\\video_87_trimmed.mp4\n",
      "Processing video: videos\\video_88.mp4 (Start: 0.0s, End: 15.0s)\n",
      "MoviePy - Running:\n",
      ">>> C:\\Users\\user\\anaconda3\\Lib\\site-packages\\imageio_ffmpeg\\binaries\\ffmpeg-win-x86_64-v7.1.exe -y -ss 0.00 -i videos\\video_88.mp4 -t 15.00 -map 0 -vcodec copy -acodec copy -copyts trimmed_videos\\video_88_trimmed.mp4\n",
      "MoviePy - Command successful\n",
      "Trimmed video saved to: trimmed_videos\\video_88_trimmed.mp4\n",
      "Processing video: videos\\video_89.mp4 (Start: 7.0s, End: 20.0s)\n",
      "MoviePy - Running:\n",
      ">>> C:\\Users\\user\\anaconda3\\Lib\\site-packages\\imageio_ffmpeg\\binaries\\ffmpeg-win-x86_64-v7.1.exe -y -ss 7.00 -i videos\\video_89.mp4 -t 13.00 -map 0 -vcodec copy -acodec copy -copyts trimmed_videos\\video_89_trimmed.mp4\n",
      "MoviePy - Command successful\n",
      "Trimmed video saved to: trimmed_videos\\video_89_trimmed.mp4\n",
      "Processing video: videos\\video_90.mp4 (Start: 0.0s, End: 30.0s)\n",
      "MoviePy - Running:\n",
      ">>> C:\\Users\\user\\anaconda3\\Lib\\site-packages\\imageio_ffmpeg\\binaries\\ffmpeg-win-x86_64-v7.1.exe -y -ss 0.00 -i videos\\video_90.mp4 -t 30.00 -map 0 -vcodec copy -acodec copy -copyts trimmed_videos\\video_90_trimmed.mp4\n",
      "MoviePy - Command successful\n",
      "Trimmed video saved to: trimmed_videos\\video_90_trimmed.mp4\n",
      "Processing video: videos\\video_91.mp4 (Start: 0.0s, End: 16.0s)\n",
      "MoviePy - Running:\n",
      ">>> C:\\Users\\user\\anaconda3\\Lib\\site-packages\\imageio_ffmpeg\\binaries\\ffmpeg-win-x86_64-v7.1.exe -y -ss 0.00 -i videos\\video_91.mp4 -t 16.00 -map 0 -vcodec copy -acodec copy -copyts trimmed_videos\\video_91_trimmed.mp4\n",
      "MoviePy - Command successful\n",
      "Trimmed video saved to: trimmed_videos\\video_91_trimmed.mp4\n",
      "Video file not found: videos\\video_92.mp4\n",
      "Processing video: videos\\video_93.mp4 (Start: 61.0s, End: 138.0s)\n",
      "MoviePy - Running:\n",
      ">>> C:\\Users\\user\\anaconda3\\Lib\\site-packages\\imageio_ffmpeg\\binaries\\ffmpeg-win-x86_64-v7.1.exe -y -ss 61.00 -i videos\\video_93.mp4 -t 77.00 -map 0 -vcodec copy -acodec copy -copyts trimmed_videos\\video_93_trimmed.mp4\n",
      "MoviePy - Command successful\n",
      "Trimmed video saved to: trimmed_videos\\video_93_trimmed.mp4\n",
      "Processing video: videos\\video_94.mp4 (Start: 0.0s, End: 12.0s)\n",
      "MoviePy - Running:\n",
      ">>> C:\\Users\\user\\anaconda3\\Lib\\site-packages\\imageio_ffmpeg\\binaries\\ffmpeg-win-x86_64-v7.1.exe -y -ss 0.00 -i videos\\video_94.mp4 -t 12.00 -map 0 -vcodec copy -acodec copy -copyts trimmed_videos\\video_94_trimmed.mp4\n",
      "MoviePy - Command successful\n",
      "Trimmed video saved to: trimmed_videos\\video_94_trimmed.mp4\n",
      "Processing video: videos\\video_95.mp4 (Start: 0.0s, End: 42.0s)\n",
      "MoviePy - Running:\n",
      ">>> C:\\Users\\user\\anaconda3\\Lib\\site-packages\\imageio_ffmpeg\\binaries\\ffmpeg-win-x86_64-v7.1.exe -y -ss 0.00 -i videos\\video_95.mp4 -t 42.00 -map 0 -vcodec copy -acodec copy -copyts trimmed_videos\\video_95_trimmed.mp4\n",
      "MoviePy - Command successful\n",
      "Trimmed video saved to: trimmed_videos\\video_95_trimmed.mp4\n"
     ]
    }
   ],
   "source": [
    "from moviepy.video.io.ffmpeg_tools import ffmpeg_extract_subclip\n",
    "\n",
    "df = pd.read_csv('URL_pose_dataset.csv')\n",
    "\n",
    "def trim_video(input_path, output_path, start_min, start_sec, end_min, end_sec):\n",
    "    try:\n",
    "        start_time = start_min * 60 + start_sec\n",
    "        end_time = end_min * 60 + end_sec\n",
    "        \n",
    "        print(f\"Processing video: {input_path} (Start: {start_time}s, End: {end_time}s)\")\n",
    "        \n",
    "        \n",
    "        ffmpeg_extract_subclip(input_path, start_time, end_time, output_path)  \n",
    "        \n",
    "        print(f\"Trimmed video saved to: {output_path}\")\n",
    "    except Exception as e:\n",
    "        print(f\"Error trimming video {input_path}: {e}\")\n",
    "\n",
    "def process_videos(csv_file, input_dir, output_dir):\n",
    "    if not os.path.exists(output_dir):\n",
    "        os.makedirs(output_dir)\n",
    "    \n",
    "    for idx, row in df.iterrows():\n",
    "        input_path = os.path.join(input_dir, f\"video_{idx+1}.mp4\")\n",
    "        output_path = os.path.join(output_dir, f\"video_{idx+1}_trimmed.mp4\")\n",
    "        \n",
    "        \n",
    "        if os.path.exists(input_path):\n",
    "            trim_video(\n",
    "                input_path, \n",
    "                output_path, \n",
    "                row['start_min'], \n",
    "                row['start_sec'], \n",
    "                row['end_min'], \n",
    "                row['end_sec']\n",
    "            )\n",
    "        else:\n",
    "            print(f\"Video file not found: {input_path}\")\n",
    "\n",
    "process_videos('URL_pose_dataset.csv', 'videos', 'trimmed_videos')\n",
    "\n"
   ]
  },
  {
   "cell_type": "code",
   "execution_count": 81,
   "id": "38a379d1-d7d2-41e9-a241-b0e84d052e5f",
   "metadata": {},
   "outputs": [
    {
     "name": "stdout",
     "output_type": "stream",
     "text": [
      "Rotated video saved to: rotated_and_cut_videos\\rotated_video_10_trimmed.mp4\n",
      "Error: Unable to open video file trimmed_videos\\video_11_trimmed.mp4\n",
      "Error: Unable to open video file trimmed_videos\\video_13_trimmed.mp4\n",
      "Error: Unable to open video file trimmed_videos\\video_14_trimmed.mp4\n",
      "Error: Unable to open video file trimmed_videos\\video_15_trimmed.mp4\n",
      "Error: Unable to open video file trimmed_videos\\video_16_trimmed.mp4\n",
      "Error: Unable to open video file trimmed_videos\\video_17_trimmed.mp4\n",
      "Rotated video saved to: rotated_and_cut_videos\\rotated_video_19_trimmed.mp4\n",
      "Rotated video saved to: rotated_and_cut_videos\\rotated_video_1_trimmed.mp4\n",
      "Rotated video saved to: rotated_and_cut_videos\\rotated_video_20_trimmed.mp4\n",
      "Error: Unable to open video file trimmed_videos\\video_21_trimmed.mp4\n",
      "Rotated video saved to: rotated_and_cut_videos\\rotated_video_24_trimmed.mp4\n",
      "Rotated video saved to: rotated_and_cut_videos\\rotated_video_2_trimmed.mp4\n",
      "Error: Unable to open video file trimmed_videos\\video_31_trimmed.mp4\n",
      "Rotated video saved to: rotated_and_cut_videos\\rotated_video_32_trimmed.mp4\n",
      "Error: Unable to open video file trimmed_videos\\video_33_trimmed.mp4\n",
      "Error: Unable to open video file trimmed_videos\\video_34_trimmed.mp4\n",
      "Rotated video saved to: rotated_and_cut_videos\\rotated_video_35_trimmed.mp4\n",
      "Rotated video saved to: rotated_and_cut_videos\\rotated_video_36_trimmed.mp4\n",
      "Rotated video saved to: rotated_and_cut_videos\\rotated_video_37_trimmed.mp4\n",
      "Rotated video saved to: rotated_and_cut_videos\\rotated_video_38_trimmed.mp4\n",
      "Rotated video saved to: rotated_and_cut_videos\\rotated_video_3_trimmed.mp4\n",
      "Rotated video saved to: rotated_and_cut_videos\\rotated_video_40_trimmed.mp4\n",
      "Rotated video saved to: rotated_and_cut_videos\\rotated_video_41_trimmed.mp4\n",
      "Rotated video saved to: rotated_and_cut_videos\\rotated_video_43_trimmed.mp4\n",
      "Rotated video saved to: rotated_and_cut_videos\\rotated_video_44_trimmed.mp4\n",
      "Rotated video saved to: rotated_and_cut_videos\\rotated_video_46_trimmed.mp4\n",
      "Rotated video saved to: rotated_and_cut_videos\\rotated_video_48_trimmed.mp4\n",
      "Rotated video saved to: rotated_and_cut_videos\\rotated_video_49_trimmed.mp4\n",
      "Rotated video saved to: rotated_and_cut_videos\\rotated_video_4_trimmed.mp4\n",
      "Rotated video saved to: rotated_and_cut_videos\\rotated_video_50_trimmed.mp4\n",
      "Error: Unable to open video file trimmed_videos\\video_51_trimmed.mp4\n",
      "Error: Unable to open video file trimmed_videos\\video_52_trimmed.mp4\n",
      "Rotated video saved to: rotated_and_cut_videos\\rotated_video_54_trimmed.mp4\n",
      "Rotated video saved to: rotated_and_cut_videos\\rotated_video_56_trimmed.mp4\n",
      "Rotated video saved to: rotated_and_cut_videos\\rotated_video_57_trimmed.mp4\n",
      "Rotated video saved to: rotated_and_cut_videos\\rotated_video_58_trimmed.mp4\n",
      "Rotated video saved to: rotated_and_cut_videos\\rotated_video_59_trimmed.mp4\n",
      "Rotated video saved to: rotated_and_cut_videos\\rotated_video_5_trimmed.mp4\n",
      "Rotated video saved to: rotated_and_cut_videos\\rotated_video_62_trimmed.mp4\n",
      "Rotated video saved to: rotated_and_cut_videos\\rotated_video_63_trimmed.mp4\n",
      "Rotated video saved to: rotated_and_cut_videos\\rotated_video_64_trimmed.mp4\n",
      "Rotated video saved to: rotated_and_cut_videos\\rotated_video_65_trimmed.mp4\n",
      "Error: Unable to open video file trimmed_videos\\video_6_trimmed.mp4\n",
      "Rotated video saved to: rotated_and_cut_videos\\rotated_video_72_trimmed.mp4\n",
      "Rotated video saved to: rotated_and_cut_videos\\rotated_video_73_trimmed.mp4\n",
      "Rotated video saved to: rotated_and_cut_videos\\rotated_video_76_trimmed.mp4\n",
      "Rotated video saved to: rotated_and_cut_videos\\rotated_video_77_trimmed.mp4\n",
      "Rotated video saved to: rotated_and_cut_videos\\rotated_video_78_trimmed.mp4\n",
      "Rotated video saved to: rotated_and_cut_videos\\rotated_video_79_trimmed.mp4\n",
      "Rotated video saved to: rotated_and_cut_videos\\rotated_video_80_trimmed.mp4\n",
      "Rotated video saved to: rotated_and_cut_videos\\rotated_video_81_trimmed.mp4\n",
      "Rotated video saved to: rotated_and_cut_videos\\rotated_video_82_trimmed.mp4\n",
      "Rotated video saved to: rotated_and_cut_videos\\rotated_video_83_trimmed.mp4\n",
      "Error: Unable to open video file trimmed_videos\\video_84_trimmed.mp4\n",
      "Rotated video saved to: rotated_and_cut_videos\\rotated_video_87_trimmed.mp4\n",
      "Rotated video saved to: rotated_and_cut_videos\\rotated_video_88_trimmed.mp4\n",
      "Rotated video saved to: rotated_and_cut_videos\\rotated_video_89_trimmed.mp4\n",
      "Rotated video saved to: rotated_and_cut_videos\\rotated_video_90_trimmed.mp4\n",
      "Rotated video saved to: rotated_and_cut_videos\\rotated_video_91_trimmed.mp4\n",
      "Rotated video saved to: rotated_and_cut_videos\\rotated_video_93_trimmed.mp4\n",
      "Rotated video saved to: rotated_and_cut_videos\\rotated_video_94_trimmed.mp4\n",
      "Rotated video saved to: rotated_and_cut_videos\\rotated_video_95_trimmed.mp4\n",
      "Rotated video saved to: rotated_and_cut_videos\\rotated_video_9_trimmed.mp4\n",
      "All videos processed.\n"
     ]
    }
   ],
   "source": [
    "import shutil\n",
    "\n",
    "\n",
    "input_dir = 'trimmed_videos'\n",
    "output_dir = 'rotated_and_cut_videos'\n",
    "\n",
    "\n",
    "if not os.path.exists(output_dir):\n",
    "    os.makedirs(output_dir)\n",
    "\n",
    "for video_filename in os.listdir(input_dir):\n",
    "    if video_filename.endswith('.mp4'):  \n",
    "        input_video = os.path.join(input_dir, video_filename)\n",
    "        output_video = os.path.join(output_dir, f\"rotated_{video_filename}\")\n",
    "        \n",
    "        \n",
    "        rotate_video(input_video, output_video)\n",
    "\n",
    "print(\"All videos processed.\")\n"
   ]
  },
  {
   "cell_type": "code",
   "execution_count": null,
   "id": "824bf4d0-659e-42b0-942f-92cc78829c50",
   "metadata": {},
   "outputs": [],
   "source": []
  }
 ],
 "metadata": {
  "kernelspec": {
   "display_name": "Python 3 (ipykernel)",
   "language": "python",
   "name": "python3"
  },
  "language_info": {
   "codemirror_mode": {
    "name": "ipython",
    "version": 3
   },
   "file_extension": ".py",
   "mimetype": "text/x-python",
   "name": "python",
   "nbconvert_exporter": "python",
   "pygments_lexer": "ipython3",
   "version": "3.11.7"
  }
 },
 "nbformat": 4,
 "nbformat_minor": 5
}
