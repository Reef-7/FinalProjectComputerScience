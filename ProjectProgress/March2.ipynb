{
 "cells": [
  {
   "cell_type": "code",
   "execution_count": 9,
   "id": "d9cc1ac1-f55a-4dfd-981f-4a4736c2e75e",
   "metadata": {},
   "outputs": [
    {
     "name": "stdout",
     "output_type": "stream",
     "text": [
      "Checking model: elbow_dt\n",
      "elbow_dt is a valid model.\n",
      "----------------------------------------\n",
      "Checking model: elbow_rf\n",
      "elbow_rf is a valid model.\n",
      "----------------------------------------\n",
      "Checking model: elbow_svc\n",
      "elbow_svc is a valid model.\n",
      "----------------------------------------\n",
      "Checking model: knee_dt\n",
      "knee_dt is a valid model.\n",
      "----------------------------------------\n",
      "Checking model: knee_rf\n",
      "knee_rf is a valid model.\n",
      "----------------------------------------\n",
      "Checking model: knee_svc\n",
      "knee_svc is a valid model.\n",
      "----------------------------------------\n",
      "Checking model: movement_dt\n",
      "movement_dt is a valid model.\n",
      "----------------------------------------\n",
      "Checking model: movement_rf\n",
      "movement_rf is a valid model.\n",
      "----------------------------------------\n",
      "Checking model: movement_svr\n",
      "movement_svr is a valid model.\n",
      "----------------------------------------\n"
     ]
    }
   ],
   "source": [
    "import joblib\n",
    "\n",
    "# טעינת המודל מהקובץ\n",
    "elbow_dt = joblib.load('elbow_model_dt.pkl')\n",
    "elbow_rf = joblib.load('elbow_model_rf.pkl')\n",
    "elbow_svc = joblib.load('elbow_model_svc.pkl')\n",
    "knee_dt = joblib.load('knee_model_dt.pkl')\n",
    "knee_rf = joblib.load('knee_model_rf.pkl')\n",
    "knee_svc = joblib.load('knee_model_svc.pkl')\n",
    "movement_dt = joblib.load('movement_score_model_dt.pkl')\n",
    "movement_rf = joblib.load('movement_score_model_rf.pkl')\n",
    "movement_svr = joblib.load('movement_score_model_svr.pkl')\n",
    "# (חזור על זה עבור שאר המודלים)\n",
    "\n",
    "# רשימה של כל המודלים שברשותך\n",
    "models = {\n",
    "    \"elbow_dt\": elbow_dt,\n",
    "    \"elbow_rf\": elbow_rf,\n",
    "    \"elbow_svc\": elbow_svc,\n",
    "    \"knee_dt\": knee_dt,\n",
    "    \"knee_rf\": knee_rf,\n",
    "    \"knee_svc\": knee_svc,\n",
    "    \"movement_dt\": movement_dt,\n",
    "    \"movement_rf\": movement_rf,\n",
    "    \"movement_svr\": movement_svr\n",
    "}\n",
    "\n",
    "# בדיקה של כל מודל\n",
    "for model_name, model in models.items():\n",
    "    print(f\"Checking model: {model_name}\")\n",
    "    \n",
    "    # אם המודל הוא numpy.ndarray, הצג הודעה מתאימה\n",
    "    if isinstance(model, np.ndarray):\n",
    "        print(f\"{model_name} is a numpy.ndarray, not a trained model.\")\n",
    "    else:\n",
    "        print(f\"{model_name} is a valid model.\")\n",
    "    \n",
    "    print('-' * 40)\n"
   ]
  }
 ],
 "metadata": {
  "kernelspec": {
   "display_name": "Python 3 (ipykernel)",
   "language": "python",
   "name": "python3"
  },
  "language_info": {
   "codemirror_mode": {
    "name": "ipython",
    "version": 3
   },
   "file_extension": ".py",
   "mimetype": "text/x-python",
   "name": "python",
   "nbconvert_exporter": "python",
   "pygments_lexer": "ipython3",
   "version": "3.11.7"
  }
 },
 "nbformat": 4,
 "nbformat_minor": 5
}
