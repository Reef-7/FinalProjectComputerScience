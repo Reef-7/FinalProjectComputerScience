{
 "cells": [
  {
   "cell_type": "code",
   "execution_count": 1,
   "id": "d4b4a764-9188-485f-9f69-146ddffae4f7",
   "metadata": {},
   "outputs": [],
   "source": [
    "rmse_values = {\n",
    "    'yolo': 0.7082,\n",
    "    'movenet': 1.7612,\n",
    "    'mediapipe': 0.9285\n",
    "}\n",
    "inv = {k: 1/v for k, v in rmse_values.items()}\n",
    "total = sum(inv.values())\n",
    "weights_motion = [inv['yolo']/total, inv['movenet']/total, inv['mediapipe']/total]\n"
   ]
  },
  {
   "cell_type": "code",
   "execution_count": 2,
   "id": "e07e2356-ceab-4ea8-a86b-b6f43dac03b6",
   "metadata": {},
   "outputs": [
    {
     "data": {
      "text/plain": [
       "[0.4619262398169617, 0.18574617478899175, 0.3523275853940466]"
      ]
     },
     "execution_count": 2,
     "metadata": {},
     "output_type": "execute_result"
    }
   ],
   "source": [
    "weights_motion"
   ]
  },
  {
   "cell_type": "code",
   "execution_count": 3,
   "id": "e0bf0c7d-6c14-40e0-8f73-ab44b1fb4a3f",
   "metadata": {},
   "outputs": [],
   "source": [
    "from tensorflow.keras.models import load_model\n",
    "import numpy as np\n",
    "from scipy.stats import mode\n",
    "from sklearn.metrics import mean_squared_error, accuracy_score, classification_report"
   ]
  },
  {
   "cell_type": "code",
   "execution_count": 4,
   "id": "75d72c5c-c292-4ae6-b04a-ddc0920a3e90",
   "metadata": {},
   "outputs": [],
   "source": [
    "# Load models\n",
    "model_yolo = load_model('best_yolo_infant_movement_model.keras')\n",
    "model_movenet = load_model('best_movenet_infant_movement_model.keras')\n",
    "model_mediapipe = load_model('best_mediapipe_infant_movement_model.keras')"
   ]
  },
  {
   "cell_type": "code",
   "execution_count": 5,
   "id": "232cce1a-1722-4caa-8319-9d73dffe8324",
   "metadata": {},
   "outputs": [],
   "source": [
    "# Predict with all models\n",
    "def predict_all_models(X_tests):\n",
    "    preds = {}\n",
    "    for name, model in {\n",
    "        'yolo': model_yolo,\n",
    "        'movenet': model_movenet,\n",
    "        'mediapipe': model_mediapipe\n",
    "    }.items():\n",
    "        print(f\"Running prediction for {name}\")\n",
    "        X_test = X_tests[name]  \n",
    "        movement, knee_probs, elbow_probs = model.predict(X_test, verbose=0)\n",
    "        preds[name] = {\n",
    "            'movement': movement.squeeze(),\n",
    "            'knee': np.argmax(knee_probs, axis=1),\n",
    "            'elbow': np.argmax(elbow_probs, axis=1)\n",
    "        }\n",
    "    return preds\n"
   ]
  },
  {
   "cell_type": "code",
   "execution_count": 6,
   "id": "b5db816b-0654-4a19-860d-b40723a92427",
   "metadata": {},
   "outputs": [],
   "source": [
    "# Ensemble function\n",
    "def ensemble_predictions(preds, weights=None, vote_type='majority', class_weights=None):\n",
    "    model_names = list(preds.keys())\n",
    "    n_models = len(model_names)\n",
    "\n",
    "    # Default: equal weights for regression models\n",
    "    if weights is None:\n",
    "        weights = np.ones(n_models) / n_models\n",
    "\n",
    "    # Regression result: weighted average\n",
    "    movement_preds = np.array([preds[m]['movement'] for m in model_names])\n",
    "    movement_ensemble = np.average(movement_preds, axis=0, weights=weights)\n",
    "\n",
    "    # Classification: majority or weighted voting\n",
    "    knee_preds = np.array([preds[m]['knee'] for m in model_names])\n",
    "    elbow_preds = np.array([preds[m]['elbow'] for m in model_names])\n",
    "\n",
    "    if vote_type == 'majority':\n",
    "        knee_ensemble = mode(knee_preds, axis=0).mode[0]\n",
    "        elbow_ensemble = mode(elbow_preds, axis=0).mode[0]\n",
    "\n",
    "    elif vote_type == 'weighted':\n",
    "        # class_weights must be provided as dict with weights\n",
    "        if class_weights is None:\n",
    "            raise ValueError(\"class_weights required for weighted voting\")\n",
    "\n",
    "        w_knee = np.array([class_weights[m]['knee'] for m in model_names])\n",
    "        w_elbow = np.array([class_weights[m]['elbow'] for m in model_names])\n",
    "\n",
    "        # Weighted vote -> weighted sum > 0.5 -> 1\n",
    "        knee_weighted = np.average(knee_preds, axis=0, weights=w_knee)\n",
    "        elbow_weighted = np.average(elbow_preds, axis=0, weights=w_elbow)\n",
    "\n",
    "        knee_ensemble = (knee_weighted > 0.5).astype(int)\n",
    "        elbow_ensemble = (elbow_weighted > 0.5).astype(int)\n",
    "\n",
    "    else:\n",
    "        raise ValueError(\"vote_type must be either 'majority' or 'weighted'\")\n",
    "\n",
    "    return movement_ensemble, knee_ensemble, elbow_ensemble"
   ]
  },
  {
   "cell_type": "code",
   "execution_count": 7,
   "id": "0e3e5c8f-4a46-42bf-8d78-2d4744017b01",
   "metadata": {},
   "outputs": [],
   "source": [
    "def run_ensemble_evaluation(X_test, y_true_movement, y_true_knee, y_true_elbow):\n",
    "    preds = predict_all_models(X_test)\n",
    "    movement_pred, knee_pred, elbow_pred = ensemble_predictions(preds, weights=weights_motion, vote_type='majority')\n",
    "    \n"
   ]
  },
  {
   "cell_type": "code",
   "execution_count": 8,
   "id": "1f40ac10-821d-46f4-87a1-5f2a9f243793",
   "metadata": {},
   "outputs": [
    {
     "name": "stdout",
     "output_type": "stream",
     "text": [
      "df_yolo rows: 2828\n",
      "df_movenet rows: 2828\n",
      "df_mediapipe rows: 2771\n",
      "df_common rows after merge: 2771\n"
     ]
    }
   ],
   "source": [
    "import pandas as pd\n",
    "\n",
    "df_yolo = pd.read_csv('test_yolo_dataset.csv')\n",
    "df_movenet = pd.read_csv('test_movenet_dataset.csv')\n",
    "df_mediapipe = pd.read_csv('test_mediapipe_dataset.csv')\n",
    "\n",
    "\n",
    "keys = ['video_id', 'frame', 'window_id']\n",
    "\n",
    "\n",
    "df_common = df_yolo[keys].merge(df_movenet[keys], on=keys).merge(df_mediapipe[keys], on=keys)\n",
    "\n",
    "print(f\"df_yolo rows: {len(df_yolo)}\")\n",
    "print(f\"df_movenet rows: {len(df_movenet)}\")\n",
    "print(f\"df_mediapipe rows: {len(df_mediapipe)}\")\n",
    "print(f\"df_common rows after merge: {len(df_common)}\")\n",
    "\n",
    "\n",
    "df_yolo_filtered = pd.merge(df_yolo, df_common, on=keys)\n",
    "df_movenet_filtered = pd.merge(df_movenet, df_common, on=keys)\n",
    "df_mediapipe_filtered = pd.merge(df_mediapipe, df_common, on=keys)\n",
    "\n",
    "\n",
    "feature_columns = [\n",
    "    'left_shoulder_x', 'left_shoulder_y', 'left_shoulder_confidence',\n",
    "    'right_shoulder_x', 'right_shoulder_y', 'right_shoulder_confidence',\n",
    "    'left_elbow_x', 'left_elbow_y', 'left_elbow_confidence',\n",
    "    'right_elbow_x', 'right_elbow_y', 'right_elbow_confidence',\n",
    "    'left_hip_x', 'left_hip_y', 'left_hip_confidence',\n",
    "    'right_hip_x', 'right_hip_y', 'right_hip_confidence',\n",
    "    'left_knee_x', 'left_knee_y', 'left_knee_confidence',\n",
    "    'right_knee_x', 'right_knee_y', 'right_knee_confidence'\n",
    "]\n",
    "\n",
    "\n",
    "X_test_yolo = df_yolo_filtered[feature_columns].values\n",
    "X_test_movenet = df_movenet_filtered[feature_columns].values\n",
    "X_test_mediapipe = df_mediapipe_filtered[feature_columns].values\n"
   ]
  },
  {
   "cell_type": "code",
   "execution_count": 9,
   "id": "628caab0-2ec3-44af-98b8-7392e3638340",
   "metadata": {},
   "outputs": [],
   "source": [
    "TIMESTEPS = 30\n",
    "STEP = 30  # קפיצה של חלון שלם, בלי חפיפה\n",
    "def create_sequences_sampled(X, timesteps, step=STEP):\n",
    "    sequences = []\n",
    "    for i in range(0, len(X) - timesteps + 1, step):\n",
    "        sequences.append(X[i:i+timesteps])\n",
    "    return np.array(sequences)\n"
   ]
  },
  {
   "cell_type": "code",
   "execution_count": 10,
   "id": "f6738d97-e96e-4937-9dfe-65d3625e1937",
   "metadata": {},
   "outputs": [],
   "source": [
    "X_test_yolo_seq = create_sequences_sampled(X_test_yolo, TIMESTEPS, STEP)\n",
    "X_test_movenet_seq = create_sequences_sampled(X_test_movenet, TIMESTEPS, STEP)\n",
    "X_test_mediapipe_seq = create_sequences_sampled(X_test_mediapipe, TIMESTEPS, STEP)"
   ]
  },
  {
   "cell_type": "code",
   "execution_count": 11,
   "id": "4ce4be43-ec79-44d8-bcba-38210ecf22d5",
   "metadata": {},
   "outputs": [
    {
     "name": "stdout",
     "output_type": "stream",
     "text": [
      "Running prediction for yolo\n",
      "Running prediction for movenet\n",
      "Running prediction for mediapipe\n",
      "WARNING:tensorflow:5 out of the last 7 calls to <function TensorFlowTrainer.make_predict_function.<locals>.one_step_on_data_distributed at 0x000002161D71BC40> triggered tf.function retracing. Tracing is expensive and the excessive number of tracings could be due to (1) creating @tf.function repeatedly in a loop, (2) passing tensors with different shapes, (3) passing Python objects instead of tensors. For (1), please define your @tf.function outside of the loop. For (2), @tf.function has reduce_retracing=True option that can avoid unnecessary retracing. For (3), please refer to https://www.tensorflow.org/guide/function#controlling_retracing and https://www.tensorflow.org/api_docs/python/tf/function for  more details.\n",
      "WARNING:tensorflow:6 out of the last 9 calls to <function TensorFlowTrainer.make_predict_function.<locals>.one_step_on_data_distributed at 0x000002161D71BC40> triggered tf.function retracing. Tracing is expensive and the excessive number of tracings could be due to (1) creating @tf.function repeatedly in a loop, (2) passing tensors with different shapes, (3) passing Python objects instead of tensors. For (1), please define your @tf.function outside of the loop. For (2), @tf.function has reduce_retracing=True option that can avoid unnecessary retracing. For (3), please refer to https://www.tensorflow.org/guide/function#controlling_retracing and https://www.tensorflow.org/api_docs/python/tf/function for  more details.\n"
     ]
    }
   ],
   "source": [
    "X_tests = {\n",
    "    'yolo': X_test_yolo_seq,\n",
    "    'movenet': X_test_movenet_seq,\n",
    "    'mediapipe': X_test_mediapipe_seq\n",
    "}\n",
    "\n",
    "\n",
    "predictions = predict_all_models(X_tests)\n",
    "movement_pred, knee_pred, elbow_pred = ensemble_predictions(predictions, weights=weights_motion, vote_type='majority')\n",
    "\n"
   ]
  },
  {
   "cell_type": "code",
   "execution_count": 12,
   "id": "b83f0372-5203-4152-a23e-ccded67c39e2",
   "metadata": {},
   "outputs": [
    {
     "name": "stdout",
     "output_type": "stream",
     "text": [
      "predictions were saved to ensemble_predictions.csv\n"
     ]
    }
   ],
   "source": [
    "df_common_seq = df_common.iloc[(TIMESTEPS - 1)::STEP].reset_index(drop=True)\n",
    "duplicates = df_common_seq[df_common_seq.duplicated(subset=['video_id', 'window_id'], keep=False)]\n",
    "df_common_seq = df_common_seq.drop_duplicates(subset=['video_id', 'window_id'], keep='first').reset_index(drop=True)\n",
    "\n",
    "\n",
    "df_preds = pd.DataFrame({\n",
    "    'movement_prediction': movement_pred,\n",
    "    'knee_prediction': knee_pred,\n",
    "    'elbow_prediction': elbow_pred\n",
    "})\n",
    "\n",
    "df_output = pd.concat([df_common_seq, df_preds], axis=1)\n",
    "\n",
    "df_output = df_output.dropna(subset=['video_id', 'window_id', 'frame'])\n",
    "df_output = df_output.drop(columns=['frame'])\n",
    "\n",
    "df_output.to_csv('ensemble_predictions_with_ids.csv', index=False)\n",
    "\n",
    "print(\"predictions were saved to ensemble_predictions.csv\")\n"
   ]
  }
 ],
 "metadata": {
  "kernelspec": {
   "display_name": "Python 3 (ipykernel)",
   "language": "python",
   "name": "python3"
  },
  "language_info": {
   "codemirror_mode": {
    "name": "ipython",
    "version": 3
   },
   "file_extension": ".py",
   "mimetype": "text/x-python",
   "name": "python",
   "nbconvert_exporter": "python",
   "pygments_lexer": "ipython3",
   "version": "3.11.7"
  }
 },
 "nbformat": 4,
 "nbformat_minor": 5
}
